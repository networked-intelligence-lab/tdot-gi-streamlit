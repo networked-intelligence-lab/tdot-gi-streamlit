{
 "cells": [
  {
   "cell_type": "code",
   "execution_count": 1,
   "id": "d02d4978",
   "metadata": {},
   "outputs": [],
   "source": [
    "import pandas as pd\n",
    "import numpy as np\n",
    "import matplotlib.pyplot as plt\n",
    "import seaborn as sns"
   ]
  },
  {
   "cell_type": "code",
   "execution_count": 2,
   "id": "b4ae5b94",
   "metadata": {},
   "outputs": [],
   "source": [
    "import pandas as pd\n",
    "import numpy as np\n",
    "df = pd.read_excel('social_criteria.xlsx')\n",
    "df = df.dropna()"
   ]
  },
  {
   "cell_type": "code",
   "execution_count": 3,
   "id": "9a2b48f1",
   "metadata": {},
   "outputs": [],
   "source": [
    "df2 = pd.read_excel('env_cri.xlsx', sheet_name = \"Form Responses 1\")\n",
    "df2 = df2.dropna()"
   ]
  },
  {
   "cell_type": "code",
   "execution_count": 4,
   "id": "c5a87981",
   "metadata": {},
   "outputs": [
    {
     "data": {
      "text/html": [
       "<div>\n",
       "<style scoped>\n",
       "    .dataframe tbody tr th:only-of-type {\n",
       "        vertical-align: middle;\n",
       "    }\n",
       "\n",
       "    .dataframe tbody tr th {\n",
       "        vertical-align: top;\n",
       "    }\n",
       "\n",
       "    .dataframe thead th {\n",
       "        text-align: right;\n",
       "    }\n",
       "</style>\n",
       "<table border=\"1\" class=\"dataframe\">\n",
       "  <thead>\n",
       "    <tr style=\"text-align: right;\">\n",
       "      <th></th>\n",
       "      <th>recreation</th>\n",
       "      <th>Health</th>\n",
       "      <th>Property</th>\n",
       "      <th>Job</th>\n",
       "    </tr>\n",
       "  </thead>\n",
       "  <tbody>\n",
       "    <tr>\n",
       "      <th>0</th>\n",
       "      <td>a. Very important</td>\n",
       "      <td>a. Very important</td>\n",
       "      <td>b. Important</td>\n",
       "      <td>c. Somewhat Important</td>\n",
       "    </tr>\n",
       "    <tr>\n",
       "      <th>1</th>\n",
       "      <td>a. Very important</td>\n",
       "      <td>a. Very important</td>\n",
       "      <td>a. Very important</td>\n",
       "      <td>a. Very important</td>\n",
       "    </tr>\n",
       "    <tr>\n",
       "      <th>2</th>\n",
       "      <td>a. Very important</td>\n",
       "      <td>a. Very important</td>\n",
       "      <td>a. Very important</td>\n",
       "      <td>a. Very important</td>\n",
       "    </tr>\n",
       "    <tr>\n",
       "      <th>3</th>\n",
       "      <td>b. Important</td>\n",
       "      <td>b. Important</td>\n",
       "      <td>a. Very important</td>\n",
       "      <td>b. Important</td>\n",
       "    </tr>\n",
       "    <tr>\n",
       "      <th>4</th>\n",
       "      <td>a. Very important</td>\n",
       "      <td>b. Important</td>\n",
       "      <td>b. Important</td>\n",
       "      <td>b. Important</td>\n",
       "    </tr>\n",
       "    <tr>\n",
       "      <th>...</th>\n",
       "      <td>...</td>\n",
       "      <td>...</td>\n",
       "      <td>...</td>\n",
       "      <td>...</td>\n",
       "    </tr>\n",
       "    <tr>\n",
       "      <th>93</th>\n",
       "      <td>a. Very important</td>\n",
       "      <td>a. Very important</td>\n",
       "      <td>b. Important</td>\n",
       "      <td>a. Very important</td>\n",
       "    </tr>\n",
       "    <tr>\n",
       "      <th>94</th>\n",
       "      <td>a. Very important</td>\n",
       "      <td>a. Very important</td>\n",
       "      <td>b. Important</td>\n",
       "      <td>a. Very important</td>\n",
       "    </tr>\n",
       "    <tr>\n",
       "      <th>95</th>\n",
       "      <td>b. Important</td>\n",
       "      <td>a. Very important</td>\n",
       "      <td>c. Somewhat Important</td>\n",
       "      <td>b. Important</td>\n",
       "    </tr>\n",
       "    <tr>\n",
       "      <th>96</th>\n",
       "      <td>b. Important</td>\n",
       "      <td>b. Important</td>\n",
       "      <td>a. Very important</td>\n",
       "      <td>b. Important</td>\n",
       "    </tr>\n",
       "    <tr>\n",
       "      <th>97</th>\n",
       "      <td>a. Very important</td>\n",
       "      <td>a. Very important</td>\n",
       "      <td>a. Very important</td>\n",
       "      <td>a. Very important</td>\n",
       "    </tr>\n",
       "  </tbody>\n",
       "</table>\n",
       "<p>98 rows × 4 columns</p>\n",
       "</div>"
      ],
      "text/plain": [
       "           recreation             Health               Property  \\\n",
       "0   a. Very important  a. Very important           b. Important   \n",
       "1   a. Very important  a. Very important      a. Very important   \n",
       "2   a. Very important  a. Very important      a. Very important   \n",
       "3        b. Important       b. Important      a. Very important   \n",
       "4   a. Very important       b. Important           b. Important   \n",
       "..                ...                ...                    ...   \n",
       "93  a. Very important  a. Very important           b. Important   \n",
       "94  a. Very important  a. Very important           b. Important   \n",
       "95       b. Important  a. Very important  c. Somewhat Important   \n",
       "96       b. Important       b. Important      a. Very important   \n",
       "97  a. Very important  a. Very important      a. Very important   \n",
       "\n",
       "                      Job  \n",
       "0   c. Somewhat Important  \n",
       "1       a. Very important  \n",
       "2       a. Very important  \n",
       "3            b. Important  \n",
       "4            b. Important  \n",
       "..                    ...  \n",
       "93      a. Very important  \n",
       "94      a. Very important  \n",
       "95           b. Important  \n",
       "96           b. Important  \n",
       "97      a. Very important  \n",
       "\n",
       "[98 rows x 4 columns]"
      ]
     },
     "execution_count": 4,
     "metadata": {},
     "output_type": "execute_result"
    }
   ],
   "source": [
    "df"
   ]
  },
  {
   "cell_type": "code",
   "execution_count": 5,
   "id": "04d7243d",
   "metadata": {
    "scrolled": true
   },
   "outputs": [
    {
     "data": {
      "text/html": [
       "<div>\n",
       "<style scoped>\n",
       "    .dataframe tbody tr th:only-of-type {\n",
       "        vertical-align: middle;\n",
       "    }\n",
       "\n",
       "    .dataframe tbody tr th {\n",
       "        vertical-align: top;\n",
       "    }\n",
       "\n",
       "    .dataframe thead th {\n",
       "        text-align: right;\n",
       "    }\n",
       "</style>\n",
       "<table border=\"1\" class=\"dataframe\">\n",
       "  <thead>\n",
       "    <tr style=\"text-align: right;\">\n",
       "      <th></th>\n",
       "      <th>storm</th>\n",
       "      <th>air</th>\n",
       "    </tr>\n",
       "  </thead>\n",
       "  <tbody>\n",
       "    <tr>\n",
       "      <th>0</th>\n",
       "      <td>b. Important</td>\n",
       "      <td>c. Somewhat Important</td>\n",
       "    </tr>\n",
       "    <tr>\n",
       "      <th>1</th>\n",
       "      <td>a. Very important</td>\n",
       "      <td>a. Very important</td>\n",
       "    </tr>\n",
       "    <tr>\n",
       "      <th>2</th>\n",
       "      <td>a. Very important</td>\n",
       "      <td>a. Very important</td>\n",
       "    </tr>\n",
       "    <tr>\n",
       "      <th>3</th>\n",
       "      <td>a. Very important</td>\n",
       "      <td>a. Very important</td>\n",
       "    </tr>\n",
       "    <tr>\n",
       "      <th>4</th>\n",
       "      <td>b. Important</td>\n",
       "      <td>c. Somewhat Important</td>\n",
       "    </tr>\n",
       "    <tr>\n",
       "      <th>...</th>\n",
       "      <td>...</td>\n",
       "      <td>...</td>\n",
       "    </tr>\n",
       "    <tr>\n",
       "      <th>93</th>\n",
       "      <td>a. Very important</td>\n",
       "      <td>a. Very important</td>\n",
       "    </tr>\n",
       "    <tr>\n",
       "      <th>94</th>\n",
       "      <td>a. Very important</td>\n",
       "      <td>a. Very important</td>\n",
       "    </tr>\n",
       "    <tr>\n",
       "      <th>95</th>\n",
       "      <td>b. Important</td>\n",
       "      <td>a. Very important</td>\n",
       "    </tr>\n",
       "    <tr>\n",
       "      <th>96</th>\n",
       "      <td>a. Very important</td>\n",
       "      <td>b. Important</td>\n",
       "    </tr>\n",
       "    <tr>\n",
       "      <th>97</th>\n",
       "      <td>a. Very important</td>\n",
       "      <td>b. Important</td>\n",
       "    </tr>\n",
       "  </tbody>\n",
       "</table>\n",
       "<p>96 rows × 2 columns</p>\n",
       "</div>"
      ],
      "text/plain": [
       "                storm                    air\n",
       "0        b. Important  c. Somewhat Important\n",
       "1   a. Very important      a. Very important\n",
       "2   a. Very important      a. Very important\n",
       "3   a. Very important      a. Very important\n",
       "4        b. Important  c. Somewhat Important\n",
       "..                ...                    ...\n",
       "93  a. Very important      a. Very important\n",
       "94  a. Very important      a. Very important\n",
       "95       b. Important      a. Very important\n",
       "96  a. Very important           b. Important\n",
       "97  a. Very important           b. Important\n",
       "\n",
       "[96 rows x 2 columns]"
      ]
     },
     "execution_count": 5,
     "metadata": {},
     "output_type": "execute_result"
    }
   ],
   "source": [
    "df2\n",
    "\n",
    "df2 = df2.drop('energy', axis=1)\n",
    "df2"
   ]
  },
  {
   "cell_type": "code",
   "execution_count": 6,
   "id": "33189126",
   "metadata": {},
   "outputs": [
    {
     "name": "stdout",
     "output_type": "stream",
     "text": [
      "(98, 4)\n",
      "(93, 4)\n"
     ]
    }
   ],
   "source": [
    "social = df.copy()\n",
    "social\n",
    "\n",
    "\n",
    "for i in range(len(social.columns)):\n",
    "    for j in range(len(social.iloc[:,i])):\n",
    "        # [0])\n",
    "        social.iloc[j,i] = str(social.iloc[j,i]).split()[0]\n",
    "        \n",
    "social\n",
    "options = {'a.': 9,'b.': 6.34, 'c.': 3.67,'d.': 1, 'e.':  0}\n",
    "\n",
    "\n",
    "for i in range(len(social.columns)):\n",
    "    social.iloc[:,i] = [options[item] for item in social.iloc[:,i]]\n",
    "    \n",
    "\n",
    "for i in range(len(social.columns)):\n",
    "    social = social[social.iloc[:,i].isin([0]) == False]\n",
    "\n"
   ]
  },
  {
   "cell_type": "code",
   "execution_count": 7,
   "id": "36eb485f",
   "metadata": {},
   "outputs": [
    {
     "name": "stdout",
     "output_type": "stream",
     "text": [
      "(96, 2)\n",
      "(94, 2)\n"
     ]
    }
   ],
   "source": [
    "env = df2.copy()\n",
    "env\n",
    "\n",
    "\n",
    "for i in range(len(env.columns)):\n",
    "    for j in range(len(env.iloc[:,i])):\n",
    "        # [0])\n",
    "        env.iloc[j,i] = str(env.iloc[j,i]).split()[0]\n",
    "        \n",
    "env\n",
    "options = {'a.': 9,'b.': 6.34, 'c.': 3.67,'d.': 1, 'e.':  0}\n",
    "\n",
    "\n",
    "for i in range(len(env.columns)):\n",
    "    env.iloc[:,i] = [options[item] for item in env.iloc[:,i]]\n",
    "    \n",
    "\n",
    "for i in range(len(env.columns)):\n",
    "    env = env[env.iloc[:,i].isin([0]) == False]\n",
    "\n"
   ]
  },
  {
   "cell_type": "code",
   "execution_count": 8,
   "id": "ae9eb5b1",
   "metadata": {},
   "outputs": [
    {
     "data": {
      "text/html": [
       "<div>\n",
       "<style scoped>\n",
       "    .dataframe tbody tr th:only-of-type {\n",
       "        vertical-align: middle;\n",
       "    }\n",
       "\n",
       "    .dataframe tbody tr th {\n",
       "        vertical-align: top;\n",
       "    }\n",
       "\n",
       "    .dataframe thead th {\n",
       "        text-align: right;\n",
       "    }\n",
       "</style>\n",
       "<table border=\"1\" class=\"dataframe\">\n",
       "  <thead>\n",
       "    <tr style=\"text-align: right;\">\n",
       "      <th></th>\n",
       "      <th>recreation</th>\n",
       "      <th>Health</th>\n",
       "      <th>Property</th>\n",
       "      <th>Job</th>\n",
       "    </tr>\n",
       "  </thead>\n",
       "  <tbody>\n",
       "    <tr>\n",
       "      <th>0</th>\n",
       "      <td>9.00</td>\n",
       "      <td>9.00</td>\n",
       "      <td>6.34</td>\n",
       "      <td>3.67</td>\n",
       "    </tr>\n",
       "    <tr>\n",
       "      <th>1</th>\n",
       "      <td>9.00</td>\n",
       "      <td>9.00</td>\n",
       "      <td>9.00</td>\n",
       "      <td>9.00</td>\n",
       "    </tr>\n",
       "    <tr>\n",
       "      <th>2</th>\n",
       "      <td>9.00</td>\n",
       "      <td>9.00</td>\n",
       "      <td>9.00</td>\n",
       "      <td>9.00</td>\n",
       "    </tr>\n",
       "    <tr>\n",
       "      <th>3</th>\n",
       "      <td>6.34</td>\n",
       "      <td>6.34</td>\n",
       "      <td>9.00</td>\n",
       "      <td>6.34</td>\n",
       "    </tr>\n",
       "    <tr>\n",
       "      <th>4</th>\n",
       "      <td>9.00</td>\n",
       "      <td>6.34</td>\n",
       "      <td>6.34</td>\n",
       "      <td>6.34</td>\n",
       "    </tr>\n",
       "    <tr>\n",
       "      <th>...</th>\n",
       "      <td>...</td>\n",
       "      <td>...</td>\n",
       "      <td>...</td>\n",
       "      <td>...</td>\n",
       "    </tr>\n",
       "    <tr>\n",
       "      <th>93</th>\n",
       "      <td>9.00</td>\n",
       "      <td>9.00</td>\n",
       "      <td>6.34</td>\n",
       "      <td>9.00</td>\n",
       "    </tr>\n",
       "    <tr>\n",
       "      <th>94</th>\n",
       "      <td>9.00</td>\n",
       "      <td>9.00</td>\n",
       "      <td>6.34</td>\n",
       "      <td>9.00</td>\n",
       "    </tr>\n",
       "    <tr>\n",
       "      <th>95</th>\n",
       "      <td>6.34</td>\n",
       "      <td>9.00</td>\n",
       "      <td>3.67</td>\n",
       "      <td>6.34</td>\n",
       "    </tr>\n",
       "    <tr>\n",
       "      <th>96</th>\n",
       "      <td>6.34</td>\n",
       "      <td>6.34</td>\n",
       "      <td>9.00</td>\n",
       "      <td>6.34</td>\n",
       "    </tr>\n",
       "    <tr>\n",
       "      <th>97</th>\n",
       "      <td>9.00</td>\n",
       "      <td>9.00</td>\n",
       "      <td>9.00</td>\n",
       "      <td>9.00</td>\n",
       "    </tr>\n",
       "  </tbody>\n",
       "</table>\n",
       "<p>93 rows × 4 columns</p>\n",
       "</div>"
      ],
      "text/plain": [
       "    recreation  Health  Property   Job\n",
       "0         9.00    9.00      6.34  3.67\n",
       "1         9.00    9.00      9.00  9.00\n",
       "2         9.00    9.00      9.00  9.00\n",
       "3         6.34    6.34      9.00  6.34\n",
       "4         9.00    6.34      6.34  6.34\n",
       "..         ...     ...       ...   ...\n",
       "93        9.00    9.00      6.34  9.00\n",
       "94        9.00    9.00      6.34  9.00\n",
       "95        6.34    9.00      3.67  6.34\n",
       "96        6.34    6.34      9.00  6.34\n",
       "97        9.00    9.00      9.00  9.00\n",
       "\n",
       "[93 rows x 4 columns]"
      ]
     },
     "execution_count": 8,
     "metadata": {},
     "output_type": "execute_result"
    }
   ],
   "source": [
    "social"
   ]
  },
  {
   "cell_type": "code",
   "execution_count": 9,
   "id": "eca679f5",
   "metadata": {},
   "outputs": [
    {
     "data": {
      "text/html": [
       "<div>\n",
       "<style scoped>\n",
       "    .dataframe tbody tr th:only-of-type {\n",
       "        vertical-align: middle;\n",
       "    }\n",
       "\n",
       "    .dataframe tbody tr th {\n",
       "        vertical-align: top;\n",
       "    }\n",
       "\n",
       "    .dataframe thead th {\n",
       "        text-align: right;\n",
       "    }\n",
       "</style>\n",
       "<table border=\"1\" class=\"dataframe\">\n",
       "  <thead>\n",
       "    <tr style=\"text-align: right;\">\n",
       "      <th></th>\n",
       "      <th>storm</th>\n",
       "      <th>air</th>\n",
       "    </tr>\n",
       "  </thead>\n",
       "  <tbody>\n",
       "    <tr>\n",
       "      <th>0</th>\n",
       "      <td>6.34</td>\n",
       "      <td>3.67</td>\n",
       "    </tr>\n",
       "    <tr>\n",
       "      <th>1</th>\n",
       "      <td>9.00</td>\n",
       "      <td>9.00</td>\n",
       "    </tr>\n",
       "    <tr>\n",
       "      <th>2</th>\n",
       "      <td>9.00</td>\n",
       "      <td>9.00</td>\n",
       "    </tr>\n",
       "    <tr>\n",
       "      <th>3</th>\n",
       "      <td>9.00</td>\n",
       "      <td>9.00</td>\n",
       "    </tr>\n",
       "    <tr>\n",
       "      <th>4</th>\n",
       "      <td>6.34</td>\n",
       "      <td>3.67</td>\n",
       "    </tr>\n",
       "    <tr>\n",
       "      <th>...</th>\n",
       "      <td>...</td>\n",
       "      <td>...</td>\n",
       "    </tr>\n",
       "    <tr>\n",
       "      <th>93</th>\n",
       "      <td>9.00</td>\n",
       "      <td>9.00</td>\n",
       "    </tr>\n",
       "    <tr>\n",
       "      <th>94</th>\n",
       "      <td>9.00</td>\n",
       "      <td>9.00</td>\n",
       "    </tr>\n",
       "    <tr>\n",
       "      <th>95</th>\n",
       "      <td>6.34</td>\n",
       "      <td>9.00</td>\n",
       "    </tr>\n",
       "    <tr>\n",
       "      <th>96</th>\n",
       "      <td>9.00</td>\n",
       "      <td>6.34</td>\n",
       "    </tr>\n",
       "    <tr>\n",
       "      <th>97</th>\n",
       "      <td>9.00</td>\n",
       "      <td>6.34</td>\n",
       "    </tr>\n",
       "  </tbody>\n",
       "</table>\n",
       "<p>94 rows × 2 columns</p>\n",
       "</div>"
      ],
      "text/plain": [
       "    storm   air\n",
       "0    6.34  3.67\n",
       "1    9.00  9.00\n",
       "2    9.00  9.00\n",
       "3    9.00  9.00\n",
       "4    6.34  3.67\n",
       "..    ...   ...\n",
       "93   9.00  9.00\n",
       "94   9.00  9.00\n",
       "95   6.34  9.00\n",
       "96   9.00  6.34\n",
       "97   9.00  6.34\n",
       "\n",
       "[94 rows x 2 columns]"
      ]
     },
     "execution_count": 9,
     "metadata": {},
     "output_type": "execute_result"
    }
   ],
   "source": [
    "env"
   ]
  },
  {
   "cell_type": "code",
   "execution_count": 10,
   "id": "1180052a",
   "metadata": {},
   "outputs": [],
   "source": [
    "import numpy as np\n",
    "mat = np.zeros((4,4))"
   ]
  },
  {
   "cell_type": "code",
   "execution_count": 11,
   "id": "429a83a3",
   "metadata": {},
   "outputs": [],
   "source": [
    "import numpy as np\n",
    "mat_env = np.zeros((2,2))"
   ]
  },
  {
   "cell_type": "code",
   "execution_count": 12,
   "id": "14c989f2",
   "metadata": {},
   "outputs": [
    {
     "data": {
      "text/html": [
       "<div>\n",
       "<style scoped>\n",
       "    .dataframe tbody tr th:only-of-type {\n",
       "        vertical-align: middle;\n",
       "    }\n",
       "\n",
       "    .dataframe tbody tr th {\n",
       "        vertical-align: top;\n",
       "    }\n",
       "\n",
       "    .dataframe thead th {\n",
       "        text-align: right;\n",
       "    }\n",
       "</style>\n",
       "<table border=\"1\" class=\"dataframe\">\n",
       "  <thead>\n",
       "    <tr style=\"text-align: right;\">\n",
       "      <th></th>\n",
       "      <th>ENV</th>\n",
       "      <th>SOC</th>\n",
       "    </tr>\n",
       "  </thead>\n",
       "  <tbody>\n",
       "    <tr>\n",
       "      <th>0</th>\n",
       "      <td>1.0</td>\n",
       "      <td>1.25</td>\n",
       "    </tr>\n",
       "    <tr>\n",
       "      <th>1</th>\n",
       "      <td>0.8</td>\n",
       "      <td>1.00</td>\n",
       "    </tr>\n",
       "  </tbody>\n",
       "</table>\n",
       "</div>"
      ],
      "text/plain": [
       "   ENV   SOC\n",
       "0  1.0  1.25\n",
       "1  0.8  1.00"
      ]
     },
     "execution_count": 12,
     "metadata": {},
     "output_type": "execute_result"
    }
   ],
   "source": [
    "level_one_cri  = pd.read_excel('lvl1_cri_pairwise.xlsx')\n",
    "level_one_cri = level_one_cri.iloc[:2,1:3]\n",
    "level_one_cri"
   ]
  },
  {
   "cell_type": "code",
   "execution_count": null,
   "id": "16e307c8",
   "metadata": {},
   "outputs": [],
   "source": []
  },
  {
   "cell_type": "code",
   "execution_count": 13,
   "id": "778b60c4",
   "metadata": {},
   "outputs": [],
   "source": [
    "# # for i in range(len(social.columns)):\n",
    "# for i in range(len(social.iloc[0,:])):\n",
    "#     for j in range(len(mat)):\n",
    "#         # \n",
    "#         mat[j][i] = social.iloc[0,j]/social.iloc[0,i]\n",
    "#     # \n",
    "        \n",
    "# mat_df = pd.DataFrame(mat)\n",
    "# # display(mat_df)\n",
    "        \n",
    "\n",
    "r10 = []\n",
    "r20 = []\n",
    "r30 = []\n",
    "r21 = []\n",
    "r31 = []\n",
    "r32 = []\n",
    "\n",
    "    \n",
    "for x in range(0, 93):\n",
    "    for i in range(len(social.iloc[0,:])):\n",
    "        for j in range(len(mat)):\n",
    "            # \n",
    "            mat[j][i] = social.iloc[x,j]/social.iloc[x,i]\n",
    "\n",
    "    r10.append(mat[1][0])\n",
    "    r20.append(mat[2][0])\n",
    "    r30.append(mat[3][0])\n",
    "    r21.append(mat[2][1])\n",
    "    r31.append(mat[3][1])\n",
    "    r32.append(mat[3][2])\n",
    "    \n",
    "    \n",
    "    \n",
    "############## checking consistency ##################\n",
    "    \n",
    "#     w,v=np.linalg.eig(mat)\n",
    "#     lambda_max = max(w)\n",
    "    \n",
    "#     CI = (lambda_max - len(mat))/(len(mat) - 1)\n",
    "#     CR = CI/0.90\n",
    "#     \n",
    "\n",
    "############## checking consistency ##################\n",
    "\n",
    "\n",
    "############## calculating priority vector ##################\n",
    "    \n",
    "    \n",
    "#     w,v = np.linalg.eig(mat)\n",
    "#     e = v[:,0]\n",
    "#     p = e/e.sum()\n",
    "\n",
    "#     l = []; \n",
    "#     for n in p: \n",
    "#         l.append('%.3f' % n)\n",
    "    \n",
    "#     \n",
    "\n",
    "############## calculating priority vector ##################\n",
    "\n",
    "#     # eig_val = np.linalg.eig(mat)[0].max()\n",
    "#     eig_vec = np.linalg.eig(mat)[1][:,0]\n",
    "#     p = eig_vec/eig_vec.sum()\n",
    "#     \n",
    "\n",
    "\n",
    "    \n"
   ]
  },
  {
   "cell_type": "code",
   "execution_count": 14,
   "id": "c0819ef2",
   "metadata": {},
   "outputs": [],
   "source": [
    "# # for i in range(len(social.columns)):\n",
    "# for i in range(len(social.iloc[0,:])):\n",
    "#     for j in range(len(mat)):\n",
    "#         # \n",
    "#         mat[j][i] = social.iloc[0,j]/social.iloc[0,i]\n",
    "#     # \n",
    "        \n",
    "# mat_df = pd.DataFrame(mat)\n",
    "# # display(mat_df)\n",
    "        \n",
    "\n",
    "e_r10 = []\n",
    "\n",
    "\n",
    "    \n",
    "for x in range(0, 94):\n",
    "    for i in range(len(env.iloc[0,:])):\n",
    "        for j in range(len(mat_env)):\n",
    "            # \n",
    "            mat_env[j][i] = env.iloc[x,j]/env.iloc[x,i]\n",
    "\n",
    "    e_r10.append(mat_env[1][0])\n",
    "\n",
    "    \n",
    "    \n",
    "    \n",
    "############## checking consistency ##################\n",
    "    \n",
    "#     w,v=np.linalg.eig(mat)\n",
    "#     lambda_max = max(w)\n",
    "    \n",
    "#     CI = (lambda_max - len(mat))/(len(mat) - 1)\n",
    "#     CR = CI/0.90\n",
    "#     \n",
    "\n",
    "############## checking consistency ##################\n",
    "\n",
    "\n",
    "############## calculating priority vector ##################\n",
    "    \n",
    "    \n",
    "#     w,v = np.linalg.eig(mat)\n",
    "#     e = v[:,0]\n",
    "#     p = e/e.sum()\n",
    "\n",
    "#     l = []; \n",
    "#     for n in p: \n",
    "#         l.append('%.3f' % n)\n",
    "    \n",
    "#     \n",
    "\n",
    "############## calculating priority vector ##################\n",
    "\n",
    "#     # eig_val = np.linalg.eig(mat)[0].max()\n",
    "#     eig_vec = np.linalg.eig(mat)[1][:,0]\n",
    "#     p = eig_vec/eig_vec.sum()\n",
    "#     \n",
    "\n",
    "\n",
    "    \n"
   ]
  },
  {
   "cell_type": "code",
   "execution_count": null,
   "id": "293383af",
   "metadata": {},
   "outputs": [],
   "source": []
  },
  {
   "cell_type": "code",
   "execution_count": 15,
   "id": "212e7500",
   "metadata": {},
   "outputs": [],
   "source": [
    "new_df = pd.read_excel('pairwise_mat_lvl2.xlsx', sheet_name = 'social')\n",
    "new_df_env = pd.read_excel('pairwise_mat_lvl2.xlsx', sheet_name = 'env')"
   ]
  },
  {
   "cell_type": "code",
   "execution_count": 16,
   "id": "bb809961",
   "metadata": {},
   "outputs": [],
   "source": [
    "def prio_vec(A):\n",
    "    e = np.linalg.eig(A)[1][:,0]\n",
    "    p = e/e.sum()\n",
    "    \n",
    "    return p.real\n",
    "\n",
    "\n",
    "mat1 = np.ones((4,4))\n",
    "mat2 = np.ones((4,4))\n",
    "mat3 = np.ones((4,4))\n",
    "mat4 = np.ones((4,4))\n",
    "\n",
    "for i in range(4):\n",
    "    for j in range(4):\n",
    "        mat1[i][j] = new_df.iloc[i,5]/new_df.iloc[j,5]\n",
    "mat1 = mat1.round(4)\n",
    "\n",
    "\n",
    "for i in range(4):\n",
    "    for j in range(4):\n",
    "        mat2[i][j] = new_df.iloc[i,6]/new_df.iloc[j,6]\n",
    "mat2 = mat2.round(4)\n",
    "\n",
    "\n",
    "\n",
    "for i in range(4):\n",
    "    for j in range(4):\n",
    "        mat3[i][j] = new_df.iloc[i,7]/new_df.iloc[j,7]\n",
    "mat3 = mat3.round(4)\n",
    "\n",
    "\n",
    "\n",
    "for i in range(4):\n",
    "    for j in range(4):\n",
    "        mat4[i][j] = new_df.iloc[i,8]/new_df.iloc[j,8]\n",
    "mat4 = mat4.round(4)"
   ]
  },
  {
   "cell_type": "code",
   "execution_count": 17,
   "id": "a52687c1",
   "metadata": {},
   "outputs": [
    {
     "data": {
      "text/plain": [
       "array([[1.    , 0.4285, 0.2728, 0.2   ],\n",
       "       [2.3337, 1.    , 0.6365, 0.4667],\n",
       "       [3.6663, 1.571 , 1.    , 0.7333],\n",
       "       [5.    , 2.1425, 1.3638, 1.    ]])"
      ]
     },
     "execution_count": 17,
     "metadata": {},
     "output_type": "execute_result"
    }
   ],
   "source": [
    "mat2"
   ]
  },
  {
   "cell_type": "code",
   "execution_count": 18,
   "id": "940ae052",
   "metadata": {},
   "outputs": [],
   "source": [
    "\n"
   ]
  },
  {
   "cell_type": "code",
   "execution_count": 19,
   "id": "b6ff2b1c",
   "metadata": {},
   "outputs": [
    {
     "data": {
      "text/plain": [
       "array([[1.    , 0.3689, 0.2557, 0.2   ],\n",
       "       [2.711 , 1.    , 0.6933, 0.5422],\n",
       "       [3.9103, 1.4424, 1.    , 0.7821],\n",
       "       [5.    , 1.8444, 1.2787, 1.    ]])"
      ]
     },
     "execution_count": 19,
     "metadata": {},
     "output_type": "execute_result"
    }
   ],
   "source": [
    "env_mat2"
   ]
  },
  {
   "cell_type": "code",
   "execution_count": 20,
   "id": "0476ae38",
   "metadata": {},
   "outputs": [
    {
     "name": "stdout",
     "output_type": "stream",
     "text": [
      "[[0.07567223319838925, 0.08333651589745038, 0.08215757829147954, 0.08333263895050963], [0.2281399039308227, 0.19446853854648943, 0.19523345433810937, 0.19444999993816744], [0.3178403461778316, 0.3055276423765701, 0.3118317865155824, 0.3055513888274799], [0.37834751669295646, 0.41666730317948997, 0.41077718085482867, 0.416665972283843]]\n"
     ]
    }
   ],
   "source": [
    "local_var_transposed = [prio_vec(mat1), prio_vec(mat2), prio_vec(mat3), prio_vec(mat4)]\n",
    "local_var = [[local_var_transposed[j][i] for j in range(len(local_var_transposed))] for i in range(len(local_var_transposed[0]))]\n"
   ]
  },
  {
   "cell_type": "code",
   "execution_count": 21,
   "id": "db6e500a",
   "metadata": {},
   "outputs": [
    {
     "name": "stdout",
     "output_type": "stream",
     "text": [
      "[[0.07853769609651158, 0.07922943230224425], [0.2174775922481093, 0.21479380722351285], [0.3112985767278353, 0.3098194778801553], [0.3926861349275439, 0.3961572825940878]]\n"
     ]
    }
   ],
   "source": [
    "local_var_transposed_env = [prio_vec(env_mat1), prio_vec(env_mat2)]\n",
    "local_var_env = [[local_var_transposed_env[j][i] for j in range(len(local_var_transposed_env))] for i in range(len(local_var_transposed_env[0]))]\n"
   ]
  },
  {
   "cell_type": "code",
   "execution_count": 22,
   "id": "3b0201ab",
   "metadata": {},
   "outputs": [
    {
     "data": {
      "text/plain": [
       "array([[0.07567223, 0.08333652, 0.08215758, 0.08333264, 0.0785377 ,\n",
       "        0.07922943],\n",
       "       [0.2281399 , 0.19446854, 0.19523345, 0.19445   , 0.21747759,\n",
       "        0.21479381],\n",
       "       [0.31784035, 0.30552764, 0.31183179, 0.30555139, 0.31129858,\n",
       "        0.30981948],\n",
       "       [0.37834752, 0.4166673 , 0.41077718, 0.41666597, 0.39268613,\n",
       "        0.39615728]])"
      ]
     },
     "execution_count": 22,
     "metadata": {},
     "output_type": "execute_result"
    }
   ],
   "source": [
    "local_var_combined = np.concatenate((local_var, local_var_env), axis = 1)\n",
    "local_var_combined"
   ]
  },
  {
   "cell_type": "code",
   "execution_count": 42,
   "id": "61933f9f",
   "metadata": {},
   "outputs": [
    {
     "name": "stdout",
     "output_type": "stream",
     "text": [
      "Simulation: 10000\n"
     ]
    }
   ],
   "source": [
    "mat = np.ones((4,4))\n",
    "\n",
    "import random\n",
    "wts_25 = []\n",
    "wts_50 = []\n",
    "wts_75 = []\n",
    "wts_100 = []\n",
    "\n",
    "sim = int(input(\"Simulation: \"))\n",
    "\n",
    "def simulator(n):\n",
    "    \n",
    "    count = 0\n",
    "    s_mat = np.ones((4,4))\n",
    "    e_mat = np.ones((2,2))\n",
    "    for i in range(1,n+1):\n",
    "        # random.seed(11)\n",
    "        s_mat[1][0] = random.choice(r10)\n",
    "        s_mat[0][1] = 1/s_mat[1][0]\n",
    "        s_mat[2][0] = random.choice(r20)\n",
    "        s_mat[0][2] = 1/s_mat[2][0]\n",
    "        s_mat[3][0] = random.choice(r30)\n",
    "        s_mat[0][3] = 1/s_mat[3][0]\n",
    "        s_mat[2][1] = random.choice(r21)\n",
    "        s_mat[1][2] = 1/s_mat[2][1]\n",
    "        s_mat[3][1] = random.choice(r31)\n",
    "        s_mat[1][3] = 1/s_mat[3][1]\n",
    "        s_mat[3][2] = random.choice(r32)\n",
    "        s_mat[2][3] = 1/s_mat[3][2]\n",
    "        \n",
    "        e_mat[1][0] = random.choice(e_r10)\n",
    "        e_mat[0][1] = 1/e_mat[1][0]\n",
    "        \n",
    "        w1,v1=np.linalg.eig(s_mat)\n",
    "        lambda_max1 = max(w1)\n",
    "    \n",
    "        CI1 = (lambda_max1 - len(s_mat))/(len(s_mat) - 1)\n",
    "        CR1 = CI1/0.90\n",
    "        \n",
    "        w2,v2=np.linalg.eig(e_mat)\n",
    "        lambda_max2 = max(w2)\n",
    "    \n",
    "        CI2 = (lambda_max2 - len(e_mat))/(len(e_mat) - 1)\n",
    "        CR2 = CI2/0.90\n",
    "        if CR1 > 0.1 or abs(prio_vec(s_mat)[0]) > 1 or CR2 > 0.1 or abs(prio_vec(e_mat)[0]) > 1 :\n",
    "            continue\n",
    "        else:\n",
    "            mat1 = (prio_vec(level_one_cri)[1]*prio_vec(s_mat))\n",
    "            mat2 = (prio_vec(level_one_cri)[0]*prio_vec(e_mat))\n",
    "\n",
    "            multply_mat = np.concatenate((mat1, mat2))\n",
    "            \n",
    "            count = count+1\n",
    "            wts = (np.dot(local_var_combined,multply_mat))\n",
    "            wts_25.append(wts[0])\n",
    "            wts_50.append(wts[1])\n",
    "            wts_75.append(wts[2])\n",
    "            wts_100.append(wts[3])\n",
    "    \n",
    "simulator(sim)"
   ]
  },
  {
   "cell_type": "code",
   "execution_count": 25,
   "id": "f4ac7868",
   "metadata": {},
   "outputs": [
    {
     "data": {
      "text/plain": [
       "0.4444444444444444"
      ]
     },
     "execution_count": 25,
     "metadata": {},
     "output_type": "execute_result"
    }
   ],
   "source": [
    "prio_vec(level_one_cri)[1]"
   ]
  },
  {
   "cell_type": "code",
   "execution_count": 44,
   "id": "d2cc06e8",
   "metadata": {},
   "outputs": [
    {
     "data": {
      "text/plain": [
       "array([0.55555556, 0.44444444])"
      ]
     },
     "execution_count": 44,
     "metadata": {},
     "output_type": "execute_result"
    }
   ],
   "source": [
    "prio_vec(mat)"
   ]
  },
  {
   "cell_type": "code",
   "execution_count": 51,
   "id": "8825b2e2",
   "metadata": {},
   "outputs": [
    {
     "name": "stdout",
     "output_type": "stream",
     "text": [
      "Simulation: 10\n",
      "1.0\n",
      "1.0\n",
      "1.0\n",
      "1.0\n",
      "1.0\n",
      "1.0\n",
      "1.0\n",
      "1.0\n",
      "1.0\n",
      "1.0\n"
     ]
    }
   ],
   "source": [
    "mat = np.ones((2,2))\n",
    "\n",
    "import random\n",
    "wts_25 = []\n",
    "wts_50 = []\n",
    "wts_75 = []\n",
    "wts_100 = []\n",
    "\n",
    "sim = int(input(\"Simulation: \"))\n",
    "\n",
    "def simulator(n):\n",
    "    \n",
    "    count = 0\n",
    "    mat = np.ones((2,2))\n",
    "    for i in range(1,n+1):\n",
    "        # random.seed(11)\n",
    "        mat[1][0] = random.choice(e_r10)\n",
    "        mat[0][1] = 1/mat[1][0]\n",
    "        \n",
    "        w,v=np.linalg.eig(mat)\n",
    "        lambda_max = max(w)\n",
    "    \n",
    "        CI = (lambda_max - len(mat))/(len(mat) - 1)\n",
    "        CR = CI/0.90\n",
    "        if CR > 0.1 or abs(prio_vec(mat)[0]) > 1 :\n",
    "            continue\n",
    "        else:\n",
    "            count = count+1\n",
    "            wts = (np.dot(local_var_env,prio_vec(mat)))\n",
    "            wts_25.append(wts[0])\n",
    "            wts_50.append(wts[1])\n",
    "            wts_75.append(wts[2])\n",
    "            wts_100.append(wts[3])\n",
    "    \n",
    "simulator(sim)"
   ]
  },
  {
   "cell_type": "code",
   "execution_count": 43,
   "id": "c58042c5",
   "metadata": {},
   "outputs": [
    {
     "name": "stdout",
     "output_type": "stream",
     "text": [
      "128\n",
      "454\n",
      "184\n",
      "495\n"
     ]
    }
   ],
   "source": [
    "column_names = [\"wts_25\", \"wts_50\", \"wts_75\", \"wts_100\"]\n",
    "\n",
    "wts = pd.DataFrame(columns = column_names)\n",
    "\n",
    "\n",
    "wts['wts_25'] = wts_25\n",
    "wts['wts_50'] = wts_50\n",
    "wts['wts_75'] = wts_75\n",
    "wts['wts_100'] = wts_100\n",
    "\n",
    "\n",
    "wts = wts.round(5)\n",
    "\n",
    "))\n",
    "))\n",
    "))\n",
    "))\n"
   ]
  },
  {
   "cell_type": "code",
   "execution_count": 44,
   "id": "2131524d",
   "metadata": {},
   "outputs": [
    {
     "data": {
      "image/png": "[encoded data removed]",
      "text/plain": [
       "<Figure size 540x216 with 1 Axes>"
      ]
     },
     "metadata": {
      "needs_background": "light"
     },
     "output_type": "display_data"
    }
   ],
   "source": [
    "## social overall plot\n",
    "\n",
    "from matplotlib.pyplot import figure\n",
    "figure(figsize=(6.9, 3))\n",
    "\n",
    "from matplotlib import rcParams\n",
    "rcParams['font.family'] = 'Arial'\n",
    "\n",
    "plt.hist(x=wts['wts_25'], bins=len(pd.unique(wts['wts_25'])), color = 'black',\n",
    "                            alpha=1)\n",
    "plt.hist(x=wts['wts_50'], bins=len(pd.unique(wts['wts_50'])), color = 'brown',\n",
    "                            alpha=1)\n",
    "plt.hist(x=wts['wts_75'], bins=len(pd.unique(wts['wts_75'])), color = 'blue',\n",
    "                            alpha=1)\n",
    "plt.hist(x=wts['wts_100'], bins=len(pd.unique(wts['wts_100'])), color = 'green',\n",
    "                            alpha=1)\n",
    "plt.gcf().set_size_inches(7.5, 3)\n",
    "\n",
    "\n",
    "# plt.xticks(np.linspace(0.0, 0.45, 10), rotation = 0)\n",
    "\n",
    "\n",
    "plt.legend(['25% GI', '50% GI', '75% GI' , '100% GI'], fontsize = 7)\n",
    "plt.xticks(fontsize=6)\n",
    "plt.yticks(fontsize=6)\n",
    "plt.ylabel('Density', fontsize = 7)\n",
    "plt.xlabel('Weight', fontsize = 7)\n",
    "\n",
    "from matplotlib.ticker import StrMethodFormatter\n",
    "plt.gca().xaxis.set_major_formatter(StrMethodFormatter('{x:,.3f}'))\n",
    "\n",
    "txt=\"(A). Range of weights for all four alternatives\"\n",
    "plt.figtext(0.5, -0.028, txt, wrap=True, horizontalalignment='center', fontsize=7)\n",
    "\n",
    "plt.savefig('wts.png', dpi = 300, bbox_inches=\"tight\" )\n",
    "\n",
    "plt.show()\n"
   ]
  },
  {
   "cell_type": "code",
   "execution_count": 45,
   "id": "6d2f0c90",
   "metadata": {},
   "outputs": [
    {
     "name": "stdout",
     "output_type": "stream",
     "text": [
      "0.07898620499286084 0.08043447896246811\n",
      "0.2077877797556498 0.2144256530979381\n",
      "0.3093835059665666 0.31169026270481515\n",
      "0.3949277285870686 0.4021701742720787\n"
     ]
    }
   ],
   "source": [
    ", max(wts_25))\n",
    ", max(wts_50))\n",
    ", max(wts_75))\n",
    ", max(wts_100))"
   ]
  },
  {
   "cell_type": "code",
   "execution_count": 46,
   "id": "5f1a77b9",
   "metadata": {},
   "outputs": [
    {
     "data": {
      "image/png": "[encoded data removed]",
      "text/plain": [
       "<Figure size 540x216 with 1 Axes>"
      ]
     },
     "metadata": {
      "needs_background": "light"
     },
     "output_type": "display_data"
    }
   ],
   "source": [
    "from matplotlib.pyplot import figure\n",
    "figure(figsize=(6.9, 3))\n",
    "\n",
    "from matplotlib import rcParams\n",
    "rcParams['font.family'] = 'Arial'\n",
    "\n",
    "plt.hist(x=wts['wts_25'], bins=len(pd.unique(wts['wts_25'])), color = 'black',\n",
    "                            alpha=1)\n",
    "plt.hist(x=wts['wts_50'], bins=len(pd.unique(wts['wts_50'])), color = 'brown',\n",
    "                            alpha=1)\n",
    "plt.hist(x=wts['wts_75'], bins=len(pd.unique(wts['wts_75'])), color = 'blue',\n",
    "                            alpha=1)\n",
    "plt.hist(x=wts['wts_100'], bins=len(pd.unique(wts['wts_100'])), color = 'green',\n",
    "                            alpha=1)\n",
    "plt.gcf().set_size_inches(7.5, 3)\n",
    "\n",
    "\n",
    "# plt.xticks(np.linspace(0.0, 0.45, 10), rotation = 0)\n",
    "\n",
    "\n",
    "plt.legend(['25% GI', '50% GI', '75% GI' , '100% GI'], fontsize = 7)\n",
    "plt.xticks(fontsize=6)\n",
    "plt.yticks(fontsize=6)\n",
    "plt.ylabel('Density', fontsize = 7)\n",
    "plt.xlabel('Weight', fontsize = 7)\n",
    "\n",
    "from matplotlib.ticker import StrMethodFormatter\n",
    "plt.gca().xaxis.set_major_formatter(StrMethodFormatter('{x:,.3f}'))\n",
    "\n",
    "txt=\"(A). Range of weights for all four alternatives\"\n",
    "plt.figtext(0.5, -0.028, txt, wrap=True, horizontalalignment='center', fontsize=7)\n",
    "\n",
    "plt.savefig('wts.png', dpi = 300, bbox_inches=\"tight\" )\n",
    "\n",
    "plt.show()"
   ]
  },
  {
   "cell_type": "code",
   "execution_count": 47,
   "id": "2b8a3e23",
   "metadata": {},
   "outputs": [
    {
     "data": {
      "image/png": "[encoded data removed]",
      "text/plain": [
       "<Figure size 234x165.6 with 1 Axes>"
      ]
     },
     "metadata": {
      "needs_background": "light"
     },
     "output_type": "display_data"
    }
   ],
   "source": [
    "plt.hist(x=wts['wts_25'], bins=len(pd.unique(wts['wts_25'])), color = 'black',\n",
    "                            alpha=1)\n",
    "\n",
    "# plt.legend(['25% GI'])\n",
    "plt.ylabel('Density', fontsize = 7)\n",
    "plt.xlabel('Weight', fontsize = 7)\n",
    "\n",
    "from matplotlib.ticker import StrMethodFormatter\n",
    "plt.gca().xaxis.set_major_formatter(StrMethodFormatter('{x:,.3f}'))\n",
    "\n",
    "fig = plt.gcf()\n",
    "fig.set_size_inches(3.25, 2.3)\n",
    "\n",
    "plt.xticks(fontsize=6)\n",
    "plt.yticks(fontsize=6)\n",
    "\n",
    "\n",
    "txt=\"(B) 25% GI, 75% TI\"\n",
    "plt.figtext(0.54, -0.02, txt, wrap=True, horizontalalignment='center', fontsize=7)\n",
    "\n",
    "plt.tight_layout()\n",
    "\n",
    "\n",
    "plt.savefig('wts_25.png', dpi = 300, bbox_inches=\"tight\")\n",
    "\n",
    "plt.show()"
   ]
  },
  {
   "cell_type": "code",
   "execution_count": 48,
   "id": "a3034ef3",
   "metadata": {},
   "outputs": [
    {
     "data": {
      "image/png": "[encoded data removed]",
      "text/plain": [
       "<Figure size 234x165.6 with 1 Axes>"
      ]
     },
     "metadata": {
      "needs_background": "light"
     },
     "output_type": "display_data"
    }
   ],
   "source": [
    "plt.hist(x=wts['wts_50'], bins=len(pd.unique(wts['wts_50'])), color = 'brown',\n",
    "                            alpha=1)\n",
    "\n",
    "# plt.legend(['50% GI'])\n",
    "plt.ylabel('Density', fontsize=7)\n",
    "plt.xlabel('Weight', fontsize=7)\n",
    "\n",
    "from matplotlib.ticker import StrMethodFormatter\n",
    "plt.gca().xaxis.set_major_formatter(StrMethodFormatter('{x:,.3f}'))\n",
    "\n",
    "fig = plt.gcf()\n",
    "fig.set_size_inches(3.25, 2.3)\n",
    "\n",
    "plt.xticks(fontsize=6)\n",
    "plt.yticks(fontsize=6)\n",
    "\n",
    "\n",
    "\n",
    "txt=\"(C) 50% GI, 50% TI\"\n",
    "plt.figtext(0.54, -0.02, txt, wrap=True, horizontalalignment='center', fontsize=7)\n",
    "\n",
    "\n",
    "plt.tight_layout()\n",
    "plt.savefig('wts_50.png', dpi = 300, bbox_inches=\"tight\")\n",
    "\n",
    "plt.show()"
   ]
  },
  {
   "cell_type": "code",
   "execution_count": 49,
   "id": "b71ed189",
   "metadata": {},
   "outputs": [
    {
     "data": {
      "image/png": "[encoded data removed]",
      "text/plain": [
       "<Figure size 234x165.6 with 1 Axes>"
      ]
     },
     "metadata": {
      "needs_background": "light"
     },
     "output_type": "display_data"
    }
   ],
   "source": [
    "plt.hist(x=wts['wts_75'], bins=len(pd.unique(wts['wts_75'])), color = 'blue',\n",
    "                            alpha=1)\n",
    "\n",
    "# plt.legend(['75% GI'])\n",
    "plt.ylabel('Density', fontsize=7)\n",
    "plt.xlabel('Weight', fontsize=7)\n",
    "\n",
    "from matplotlib.ticker import StrMethodFormatter\n",
    "plt.gca().xaxis.set_major_formatter(StrMethodFormatter('{x:,.3f}'))\n",
    "\n",
    "fig = plt.gcf()\n",
    "fig.set_size_inches(3.25, 2.3)\n",
    "\n",
    "plt.xticks(fontsize=6)\n",
    "plt.yticks(fontsize=6)\n",
    "\n",
    "txt=\"(D) 75% GI, 25% TI\"\n",
    "plt.figtext(0.54, -0.02, txt, wrap=True, horizontalalignment='center', fontsize=7)\n",
    "\n",
    "\n",
    "plt.tight_layout()\n",
    "plt.savefig('wts_75.png', dpi = 300, bbox_inches=\"tight\")\n",
    "\n",
    "plt.show()"
   ]
  },
  {
   "cell_type": "code",
   "execution_count": 50,
   "id": "2889e846",
   "metadata": {},
   "outputs": [
    {
     "data": {
      "image/png": "[encoded data removed]",
      "text/plain": [
       "<Figure size 234x165.6 with 1 Axes>"
      ]
     },
     "metadata": {
      "needs_background": "light"
     },
     "output_type": "display_data"
    }
   ],
   "source": [
    "plt.hist(x=wts['wts_100'], bins=len(pd.unique(wts['wts_100'])), color = 'green',\n",
    "                            alpha=1)\n",
    "\n",
    "# plt.legend(['100% GI'])\n",
    "plt.ylabel('Density', fontsize=7)\n",
    "plt.xlabel('Weight', fontsize=7)\n",
    "\n",
    "from matplotlib.ticker import StrMethodFormatter\n",
    "plt.gca().xaxis.set_major_formatter(StrMethodFormatter('{x:,.3f}'))\n",
    "\n",
    "fig = plt.gcf()\n",
    "fig.set_size_inches(3.25, 2.3)\n",
    "\n",
    "plt.xticks(fontsize=6)\n",
    "plt.yticks(fontsize=6)\n",
    "\n",
    "txt=\"(E) 100% GI\"\n",
    "plt.figtext(0.54, -0.02, txt, wrap=True, horizontalalignment='center', fontsize=7)\n",
    "plt.tight_layout()\n",
    "plt.savefig('wts_100.png', dpi = 300, bbox_inches=\"tight\")\n",
    "\n",
    "plt.show()"
   ]
  },
  {
   "cell_type": "code",
   "execution_count": 35,
   "id": "9de88249",
   "metadata": {},
   "outputs": [
    {
     "name": "stderr",
     "output_type": "stream",
     "text": [
      "findfont: Font family ['Proxima Nova'] not found. Falling back to DejaVu Sans.\n"
     ]
    },
    {
     "name": "stdout",
     "output_type": "stream",
     "text": [
      "Closest Arial font file: C:\\Windows\\Fonts\\arial.ttf\n",
      "Closest Proxima Nova font file: C:\\ProgramData\\Anaconda3\\Lib\\site-packages\\matplotlib\\mpl-data\\fonts\\ttf\\DejaVuSans.ttf\n"
     ]
    }
   ],
   "source": [
    "from matplotlib import font_manager \n",
    "font_manager_inst = font_manager.fontManager \n",
    "#Find arial font \n",
    ".split('/')[-1])) \n",
    "# Find proxima nova font \n",
    ".split('/')[-1])) "
   ]
  },
  {
   "cell_type": "code",
   "execution_count": 36,
   "id": "f7f898c9",
   "metadata": {},
   "outputs": [
    {
     "data": {
      "image/png": "[encoded data removed]",
      "text/plain": [
       "<Figure size 432x288 with 1 Axes>"
      ]
     },
     "metadata": {
      "needs_background": "light"
     },
     "output_type": "display_data"
    }
   ],
   "source": [
    "import matplotlib.pyplot as plt\n",
    "import numpy\n",
    "\n",
    "from matplotlib import rcParams\n",
    "rcParams['font.family'] = 'Arial'\n",
    "\n",
    "data = r10\n",
    "# \n",
    "sorted_random_data = numpy.sort(data)\n",
    "p = 1. * numpy.arange(len(sorted_random_data)) / float(len(sorted_random_data) - 1)\n",
    "# \n",
    "\n",
    "fig = plt.figure()\n",
    "# fig.suptitle('CDF of R[1,0]')\n",
    "ax2 = fig.add_subplot(111)\n",
    "\n",
    "ax2.plot(sorted_random_data, p)\n",
    "ax2.set_xlabel(\"(A) \" + '$c_2$/$c_1$', fontsize=22)\n",
    "ax2.set_ylabel('Cumulative probabilty', fontsize=22)\n",
    "plt.yticks(fontsize=20)\n",
    "plt.xticks(fontsize=20)\n",
    "plt.savefig(\"1.png\", dpi = 300, bbox_inches=\"tight\")\n",
    "plt.show()"
   ]
  },
  {
   "cell_type": "code",
   "execution_count": 37,
   "id": "4340ea9f",
   "metadata": {},
   "outputs": [
    {
     "data": {
      "image/png": "[encoded data removed]",
      "text/plain": [
       "<Figure size 432x288 with 1 Axes>"
      ]
     },
     "metadata": {
      "needs_background": "light"
     },
     "output_type": "display_data"
    }
   ],
   "source": [
    "import matplotlib.pyplot as plt\n",
    "import numpy\n",
    "\n",
    "from matplotlib import rcParams\n",
    "rcParams['font.family'] = 'Arial'\n",
    "\n",
    "data = r20\n",
    "# \n",
    "sorted_random_data = numpy.sort(data)\n",
    "p = 1. * numpy.arange(len(sorted_random_data)) / float(len(sorted_random_data) - 1)\n",
    "# \n",
    "\n",
    "fig = plt.figure()\n",
    "# fig.suptitle('CDF of data points')\n",
    "ax2 = fig.add_subplot(111)\n",
    "ax2.plot(sorted_random_data, p)\n",
    "ax2.set_xlabel(\"(B) \" + '$c_3$/$c_1$', fontsize=22)\n",
    "ax2.set_ylabel('Cumulative probabilty', fontsize=22)\n",
    "plt.yticks(fontsize=20)\n",
    "plt.xticks(fontsize=20)\n",
    "plt.savefig(\"2.png\", dpi = 300, bbox_inches=\"tight\")\n",
    "plt.show()"
   ]
  },
  {
   "cell_type": "code",
   "execution_count": 38,
   "id": "01dac407",
   "metadata": {},
   "outputs": [
    {
     "data": {
      "image/png": "[encoded data removed]",
      "text/plain": [
       "<Figure size 432x288 with 1 Axes>"
      ]
     },
     "metadata": {
      "needs_background": "light"
     },
     "output_type": "display_data"
    }
   ],
   "source": [
    "import matplotlib.pyplot as plt\n",
    "import numpy\n",
    "\n",
    "from matplotlib import rcParams\n",
    "rcParams['font.family'] = 'Arial'\n",
    "\n",
    "data = r30\n",
    "# \n",
    "sorted_random_data = numpy.sort(data)\n",
    "p = 1. * numpy.arange(len(sorted_random_data)) / float(len(sorted_random_data) - 1)\n",
    "# \n",
    "\n",
    "fig = plt.figure()\n",
    "# fig.suptitle('CDF of data points')\n",
    "ax2 = fig.add_subplot(111)\n",
    "ax2.plot(sorted_random_data, p)\n",
    "ax2.set_xlabel(\"(C) \" + '$c_4$/$c_1$', fontsize=22)\n",
    "ax2.set_ylabel('Cumulative probabilty', fontsize=22)\n",
    "\n",
    "plt.yticks(fontsize=20)\n",
    "plt.xticks(fontsize=20)\n",
    "plt.savefig(\"3.png\", dpi = 300, bbox_inches=\"tight\")\n",
    "plt.show()"
   ]
  },
  {
   "cell_type": "code",
   "execution_count": 39,
   "id": "3b1ea32e",
   "metadata": {},
   "outputs": [
    {
     "data": {
      "image/png": "[encoded data removed]",
      "text/plain": [
       "<Figure size 432x288 with 1 Axes>"
      ]
     },
     "metadata": {
      "needs_background": "light"
     },
     "output_type": "display_data"
    }
   ],
   "source": [
    "import matplotlib.pyplot as plt\n",
    "import numpy\n",
    "\n",
    "from matplotlib import rcParams\n",
    "rcParams['font.family'] = 'Arial'\n",
    "\n",
    "data = r21\n",
    "# \n",
    "sorted_random_data = numpy.sort(data)\n",
    "p = 1. * numpy.arange(len(sorted_random_data)) / float(len(sorted_random_data) - 1)\n",
    "# \n",
    "\n",
    "fig = plt.figure()\n",
    "# fig.suptitle('CDF of data points')\n",
    "ax2 = fig.add_subplot(111)\n",
    "ax2.plot(sorted_random_data, p)\n",
    "ax2.set_xlabel(\"(D) \" + '$c_3$/$c_2$', fontsize=22)\n",
    "ax2.set_ylabel('Cumulative probabilty', fontsize=22)\n",
    "plt.yticks(fontsize=20)\n",
    "plt.xticks(fontsize=20)\n",
    "plt.savefig(\"4.png\", dpi = 300, bbox_inches=\"tight\")\n",
    "plt.show()"
   ]
  },
  {
   "cell_type": "code",
   "execution_count": 40,
   "id": "f0d0c5fa",
   "metadata": {},
   "outputs": [
    {
     "data": {
      "image/png": "[encoded data removed]",
      "text/plain": [
       "<Figure size 432x288 with 1 Axes>"
      ]
     },
     "metadata": {
      "needs_background": "light"
     },
     "output_type": "display_data"
    }
   ],
   "source": [
    "import matplotlib.pyplot as plt\n",
    "import numpy\n",
    "\n",
    "from matplotlib import rcParams\n",
    "rcParams['font.family'] = 'Arial'\n",
    "\n",
    "data = r31\n",
    "# \n",
    "sorted_random_data = numpy.sort(data)\n",
    "p = 1. * numpy.arange(len(sorted_random_data)) / float(len(sorted_random_data) - 1)\n",
    "# \n",
    "\n",
    "fig = plt.figure()\n",
    "# fig.suptitle('CDF of data points')\n",
    "ax2 = fig.add_subplot(111)\n",
    "ax2.plot(sorted_random_data, p)\n",
    "ax2.set_xlabel(\"(E) \" + '$c_4$/$c_2$', fontsize=22)\n",
    "ax2.set_ylabel('Cumulative probabilty', fontsize=22)\n",
    "plt.yticks(fontsize=20)\n",
    "plt.xticks(fontsize=20)\n",
    "plt.savefig(\"5.png\", dpi = 300, bbox_inches=\"tight\")\n",
    "plt.show()"
   ]
  },
  {
   "cell_type": "code",
   "execution_count": 41,
   "id": "b4c699f0",
   "metadata": {},
   "outputs": [
    {
     "data": {
      "image/png": "[encoded data removed]",
      "text/plain": [
       "<Figure size 432x288 with 1 Axes>"
      ]
     },
     "metadata": {
      "needs_background": "light"
     },
     "output_type": "display_data"
    }
   ],
   "source": [
    "import matplotlib.pyplot as plt\n",
    "import numpy\n",
    "\n",
    "from matplotlib import rcParams\n",
    "rcParams['font.family'] = 'Arial'\n",
    "\n",
    "data = r32\n",
    "# \n",
    "sorted_random_data = numpy.sort(data)\n",
    "p = 1. * numpy.arange(len(sorted_random_data)) / float(len(sorted_random_data) - 1)\n",
    "# \n",
    "\n",
    "fig = plt.figure()\n",
    "# fig.suptitle('CDF of data points')\n",
    "ax2 = fig.add_subplot(111)\n",
    "ax2.plot(sorted_random_data, p)\n",
    "ax2.set_xlabel(\"(F) \" + '$c_4$/$c_3$' ,fontsize=22)\n",
    "ax2.set_ylabel('Cumulative probabilty', fontsize=22)\n",
    "plt.yticks(fontsize=20)\n",
    "plt.xticks(fontsize=20)\n",
    "plt.savefig(\"6.png\", dpi = 300, bbox_inches=\"tight\")\n",
    "plt.show()"
   ]
  },
  {
   "cell_type": "code",
   "execution_count": 42,
   "id": "1ac3e703",
   "metadata": {},
   "outputs": [
    {
     "data": {
      "image/png": "[encoded data removed]",
      "text/plain": [
       "<Figure size 432x288 with 1 Axes>"
      ]
     },
     "metadata": {
      "needs_background": "light"
     },
     "output_type": "display_data"
    }
   ],
   "source": [
    "import matplotlib.pyplot as plt\n",
    "import numpy\n",
    "\n",
    "from matplotlib import rcParams\n",
    "rcParams['font.family'] = 'Arial'\n",
    "\n",
    "data = e_r10\n",
    "# \n",
    "sorted_random_data = numpy.sort(data)\n",
    "p = 1. * numpy.arange(len(sorted_random_data)) / float(len(sorted_random_data) - 1)\n",
    "# \n",
    "\n",
    "fig = plt.figure()\n",
    "# fig.suptitle('CDF of R[1,0]')\n",
    "ax2 = fig.add_subplot(111)\n",
    "\n",
    "ax2.plot(sorted_random_data, p)\n",
    "ax2.set_xlabel(\"(A) \" + '$c_2$/$c_1$', fontsize=22)\n",
    "ax2.set_ylabel('Cumulative probabilty', fontsize=22)\n",
    "plt.yticks(fontsize=20)\n",
    "plt.xticks(fontsize=20)\n",
    "plt.savefig(\"1.png\", dpi = 300, bbox_inches=\"tight\")\n",
    "plt.show()"
   ]
  }
 ],
 "metadata": {
  "kernelspec": {
   "display_name": "Python 3 (ipykernel)",
   "language": "python",
   "name": "python3"
  },
  "language_info": {
   "codemirror_mode": {
    "name": "ipython",
    "version": 3
   },
   "file_extension": ".py",
   "mimetype": "text/x-python",
   "name": "python",
   "nbconvert_exporter": "python",
   "pygments_lexer": "ipython3",
   "version": "3.11.4"
  }
 },
 "nbformat": 4,
 "nbformat_minor": 5
}
