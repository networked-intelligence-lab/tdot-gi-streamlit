{
 "cells": [
  {
   "cell_type": "code",
   "execution_count": 4,
   "id": "initial_id",
   "metadata": {
    "collapsed": true,
    "ExecuteTime": {
     "end_time": "2023-10-06T09:31:53.215905Z",
     "start_time": "2023-10-06T09:31:53.209951Z"
    }
   },
   "outputs": [],
   "source": [
    "import json"
   ]
  },
  {
   "cell_type": "code",
   "execution_count": 5,
   "outputs": [],
   "source": [
    "ct = json.load(open('data/climate_tree.json'))"
   ],
   "metadata": {
    "collapsed": false,
    "ExecuteTime": {
     "end_time": "2023-10-06T09:31:53.412650Z",
     "start_time": "2023-10-06T09:31:53.406068Z"
    }
   },
   "id": "f74df341a3a16099"
  },
  {
   "cell_type": "code",
   "execution_count": 6,
   "outputs": [
    {
     "name": "stdout",
     "output_type": "stream",
     "text": [
      "Coastal Southern California\n",
      "Desert Southwest\n",
      "Inland Empire\n",
      "Interior West\n",
      "Northern California Coast\n",
      "Northern Mountain and Prairie\n",
      "San Joaquin Valley\n",
      "Temperate Interior West\n",
      "Tropical\n",
      "Central Florida\n",
      "Coastal Plain\n",
      "Lower Midwest\n",
      "Midwest\n",
      "Northeast\n",
      "Piedmont\n",
      "Western Washington and Oregon\n"
     ]
    }
   ],
   "source": [
    "for k in ct.keys():\n",
    "    print(k)"
   ],
   "metadata": {
    "collapsed": false,
    "ExecuteTime": {
     "end_time": "2023-10-06T09:31:53.561783Z",
     "start_time": "2023-10-06T09:31:53.558860Z"
    }
   },
   "id": "1ab0d9f2ebb15fc4"
  },
  {
   "cell_type": "code",
   "execution_count": 9,
   "outputs": [
    {
     "name": "stdout",
     "output_type": "stream",
     "text": [
      "Annual Interception\n",
      "Pollutant Uptake\n",
      "Energy Saved\n"
     ]
    }
   ],
   "source": [
    "for k in ct['Desert Southwest'].keys():\n",
    "    print(k)"
   ],
   "metadata": {
    "collapsed": false,
    "ExecuteTime": {
     "end_time": "2023-10-06T09:32:27.799766Z",
     "start_time": "2023-10-06T09:32:27.796137Z"
    }
   },
   "id": "c6baa6e196d26160"
  },
  {
   "cell_type": "code",
   "execution_count": 2,
   "outputs": [
    {
     "data": {
      "text/plain": "{'geometry': {'coordinates': [-2.2447604, 53.4808144], 'type': 'Point'},\n 'type': 'Feature',\n 'properties': {'osm_id': 9604226184,\n  'country': 'United Kingdom',\n  'city': 'Manchester',\n  'countrycode': 'GB',\n  'postcode': 'M2 4JE',\n  'locality': 'Civic Quarter',\n  'county': 'Greater Manchester',\n  'type': 'house',\n  'osm_type': 'N',\n  'osm_key': 'shop',\n  'housenumber': '39',\n  'street': 'Cross Street',\n  'district': 'City Centre',\n  'osm_value': 'tobacco',\n  'name': 'Mirage News & Tobacconist',\n  'state': 'England'}}"
     },
     "execution_count": 2,
     "metadata": {},
     "output_type": "execute_result"
    }
   ],
   "source": [
    "from geopy.geocoders import Photon\n",
    "\n",
    "locator = Photon(user_agent=\"myGeocoder\")\n",
    "coordinates = \"53.480837, -2.244914\"\n",
    "location = locator.reverse(coordinates)\n",
    "location.raw"
   ],
   "metadata": {
    "collapsed": false,
    "ExecuteTime": {
     "end_time": "2023-11-09T20:05:00.086918Z",
     "start_time": "2023-11-09T20:04:58.947121Z"
    }
   },
   "id": "5f76bc59d4646c9b"
  },
  {
   "cell_type": "code",
   "execution_count": null,
   "outputs": [],
   "source": [],
   "metadata": {
    "collapsed": false
   },
   "id": "5037743478e2c38a"
  }
 ],
 "metadata": {
  "kernelspec": {
   "display_name": "Python 3",
   "language": "python",
   "name": "python3"
  },
  "language_info": {
   "codemirror_mode": {
    "name": "ipython",
    "version": 2
   },
   "file_extension": ".py",
   "mimetype": "text/x-python",
   "name": "python",
   "nbconvert_exporter": "python",
   "pygments_lexer": "ipython2",
   "version": "2.7.6"
  }
 },
 "nbformat": 4,
 "nbformat_minor": 5
}
