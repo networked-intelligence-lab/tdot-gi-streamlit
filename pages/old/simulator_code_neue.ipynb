{
 "cells": [
  {
   "cell_type": "code",
   "execution_count": 19,
   "id": "initial_id",
   "metadata": {
    "ExecuteTime": {
     "end_time": "2023-11-27T23:06:48.602476Z",
     "start_time": "2023-11-27T23:06:48.096184Z"
    }
   },
   "outputs": [],
   "source": [
    "import pandas as pd\n",
    "import numpy as np\n",
    "import matplotlib.pyplot as plt\n",
    "import random\n",
    "from matplotlib.ticker import StrMethodFormatter\n",
    "from matplotlib import rcParams\n",
    "from matplotlib.pyplot import figure"
   ]
  },
  {
   "cell_type": "code",
   "execution_count": 20,
   "id": "84ebf73b219c6cd4",
   "metadata": {
    "collapsed": false,
    "jupyter": {
     "outputs_hidden": false
    }
   },
   "outputs": [],
   "source": [
    "social_df = pd.read_excel('../../data/social_criteria.xlsx').dropna()\n",
    "env_criteria = pd.read_excel('../../data/env_cri.xlsx', sheet_name=\"Form Responses 1\").dropna()\n",
    "level_one_df = pd.read_excel('../../data/lvl1_cri_pairwise.xlsx') "
   ]
  },
  {
   "cell_type": "code",
   "execution_count": 21,
   "id": "a4a9c543-0f5f-4bef-bdf5-a5935f1aa85f",
   "metadata": {},
   "outputs": [],
   "source": [
    "options = {'a.': 9, 'b.': 6.34, 'c.': 3.67, 'd.': 1, 'e.': 0}"
   ]
  },
  {
   "cell_type": "code",
   "execution_count": 22,
   "id": "3bd0c45e-332e-4ae0-81cf-a5512e6db653",
   "metadata": {},
   "outputs": [],
   "source": [
    "social = social_df.copy()"
   ]
  },
  {
   "cell_type": "code",
   "execution_count": 23,
   "id": "4b1f1152-4c04-40b0-ab7d-a5a04b30ff18",
   "metadata": {},
   "outputs": [],
   "source": [
    "for i in range(len(social.columns)):\n",
    "    for j in range(len(social.iloc[:, i])):\n",
    "        # [0])\n",
    "        social.iloc[j, i] = str(social.iloc[j, i]).split()[0]"
   ]
  },
  {
   "cell_type": "code",
   "execution_count": 25,
   "id": "0d0a48e5-d998-4907-b9f4-d99d3de76cd4",
   "metadata": {},
   "outputs": [],
   "source": [
    "for i in range(len(social.columns)):\n",
    "    social.iloc[:, i] = [options[item] for item in social.iloc[:, i]]\n",
    "\n",
    "for i in range(len(social.columns)):\n",
    "    social = social[social.iloc[:, i].isin([0]) == False]"
   ]
  },
  {
   "cell_type": "code",
   "execution_count": 26,
   "id": "1586737d-8ac0-44a2-8496-d6d0fc584eee",
   "metadata": {},
   "outputs": [
    {
     "data": {
      "text/html": [
       "<div>\n",
       "<style scoped>\n",
       "    .dataframe tbody tr th:only-of-type {\n",
       "        vertical-align: middle;\n",
       "    }\n",
       "\n",
       "    .dataframe tbody tr th {\n",
       "        vertical-align: top;\n",
       "    }\n",
       "\n",
       "    .dataframe thead th {\n",
       "        text-align: right;\n",
       "    }\n",
       "</style>\n",
       "<table border=\"1\" class=\"dataframe\">\n",
       "  <thead>\n",
       "    <tr style=\"text-align: right;\">\n",
       "      <th></th>\n",
       "      <th>recreation</th>\n",
       "      <th>Health</th>\n",
       "      <th>Property</th>\n",
       "      <th>Job</th>\n",
       "    </tr>\n",
       "  </thead>\n",
       "  <tbody>\n",
       "    <tr>\n",
       "      <th>0</th>\n",
       "      <td>9</td>\n",
       "      <td>9</td>\n",
       "      <td>6.34</td>\n",
       "      <td>3.67</td>\n",
       "    </tr>\n",
       "    <tr>\n",
       "      <th>1</th>\n",
       "      <td>9</td>\n",
       "      <td>9</td>\n",
       "      <td>9</td>\n",
       "      <td>9</td>\n",
       "    </tr>\n",
       "    <tr>\n",
       "      <th>2</th>\n",
       "      <td>9</td>\n",
       "      <td>9</td>\n",
       "      <td>9</td>\n",
       "      <td>9</td>\n",
       "    </tr>\n",
       "    <tr>\n",
       "      <th>3</th>\n",
       "      <td>6.34</td>\n",
       "      <td>6.34</td>\n",
       "      <td>9</td>\n",
       "      <td>6.34</td>\n",
       "    </tr>\n",
       "    <tr>\n",
       "      <th>4</th>\n",
       "      <td>9</td>\n",
       "      <td>6.34</td>\n",
       "      <td>6.34</td>\n",
       "      <td>6.34</td>\n",
       "    </tr>\n",
       "    <tr>\n",
       "      <th>...</th>\n",
       "      <td>...</td>\n",
       "      <td>...</td>\n",
       "      <td>...</td>\n",
       "      <td>...</td>\n",
       "    </tr>\n",
       "    <tr>\n",
       "      <th>93</th>\n",
       "      <td>9</td>\n",
       "      <td>9</td>\n",
       "      <td>6.34</td>\n",
       "      <td>9</td>\n",
       "    </tr>\n",
       "    <tr>\n",
       "      <th>94</th>\n",
       "      <td>9</td>\n",
       "      <td>9</td>\n",
       "      <td>6.34</td>\n",
       "      <td>9</td>\n",
       "    </tr>\n",
       "    <tr>\n",
       "      <th>95</th>\n",
       "      <td>6.34</td>\n",
       "      <td>9</td>\n",
       "      <td>3.67</td>\n",
       "      <td>6.34</td>\n",
       "    </tr>\n",
       "    <tr>\n",
       "      <th>96</th>\n",
       "      <td>6.34</td>\n",
       "      <td>6.34</td>\n",
       "      <td>9</td>\n",
       "      <td>6.34</td>\n",
       "    </tr>\n",
       "    <tr>\n",
       "      <th>97</th>\n",
       "      <td>9</td>\n",
       "      <td>9</td>\n",
       "      <td>9</td>\n",
       "      <td>9</td>\n",
       "    </tr>\n",
       "  </tbody>\n",
       "</table>\n",
       "<p>93 rows × 4 columns</p>\n",
       "</div>"
      ],
      "text/plain": [
       "   recreation Health Property   Job\n",
       "0           9      9     6.34  3.67\n",
       "1           9      9        9     9\n",
       "2           9      9        9     9\n",
       "3        6.34   6.34        9  6.34\n",
       "4           9   6.34     6.34  6.34\n",
       "..        ...    ...      ...   ...\n",
       "93          9      9     6.34     9\n",
       "94          9      9     6.34     9\n",
       "95       6.34      9     3.67  6.34\n",
       "96       6.34   6.34        9  6.34\n",
       "97          9      9        9     9\n",
       "\n",
       "[93 rows x 4 columns]"
      ]
     },
     "metadata": {},
     "output_type": "display_data"
    }
   ],
   "source": [
    "display(social)"
   ]
  },
  {
   "cell_type": "code",
   "execution_count": null,
   "id": "30bfb005-68db-4c5d-a253-0c56e537848c",
   "metadata": {},
   "outputs": [],
   "source": []
  }
 ],
 "metadata": {
  "kernelspec": {
   "display_name": "Python 3 (ipykernel)",
   "language": "python",
   "name": "python3"
  },
  "language_info": {
   "codemirror_mode": {
    "name": "ipython",
    "version": 3
   },
   "file_extension": ".py",
   "mimetype": "text/x-python",
   "name": "python",
   "nbconvert_exporter": "python",
   "pygments_lexer": "ipython3",
   "version": "3.9.6"
  }
 },
 "nbformat": 4,
 "nbformat_minor": 5
}
