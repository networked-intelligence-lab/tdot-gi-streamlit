{
 "cells": [
  {
   "cell_type": "code",
   "execution_count": 5,
   "id": "initial_id",
   "metadata": {
    "ExecuteTime": {
     "end_time": "2023-11-28T18:18:19.270545Z",
     "start_time": "2023-11-28T18:18:19.261200Z"
    }
   },
   "outputs": [],
   "source": [
    "import pandas as pd\n",
    "import numpy as np\n",
    "import matplotlib.pyplot as plt\n",
    "import random\n",
    "from matplotlib.ticker import StrMethodFormatter\n",
    "from matplotlib import rcParams\n",
    "from matplotlib.pyplot import figure"
   ]
  },
  {
   "cell_type": "code",
   "execution_count": 6,
   "id": "84ebf73b219c6cd4",
   "metadata": {
    "collapsed": false,
    "ExecuteTime": {
     "end_time": "2023-11-28T18:18:19.615784Z",
     "start_time": "2023-11-28T18:18:19.432026Z"
    }
   },
   "outputs": [],
   "source": [
    "social_df = pd.read_excel('../../data/social_criteria.xlsx').dropna()\n",
    "env_criteria = pd.read_excel('../../data/env_cri.xlsx', sheet_name=\"Form Responses 1\").dropna()\n",
    "level_one_df = pd.read_excel('../../data/lvl1_cri_pairwise.xlsx') "
   ]
  },
  {
   "cell_type": "code",
   "execution_count": 13,
   "outputs": [],
   "source": [
    "def map_letter_vals(cell_value):\n",
    "    map_values = {'a': 9, 'b': 6.34, 'c': 3.67, 'd': 1, 'e': 0}\n",
    "    if isinstance(cell_value, str):\n",
    "        letter = cell_value.split('.')[0]\n",
    "        return map_values[letter]\n",
    "    return cell_value"
   ],
   "metadata": {
    "collapsed": false,
    "ExecuteTime": {
     "end_time": "2023-11-28T18:19:58.175025Z",
     "start_time": "2023-11-28T18:19:58.164307Z"
    }
   },
   "id": "2d9b6ec3dff088db"
  },
  {
   "cell_type": "code",
   "execution_count": 14,
   "id": "3bd0c45e-332e-4ae0-81cf-a5512e6db653",
   "metadata": {
    "ExecuteTime": {
     "end_time": "2023-11-28T18:19:58.473916Z",
     "start_time": "2023-11-28T18:19:58.465185Z"
    }
   },
   "outputs": [],
   "source": [
    "social = social_df.copy()\n",
    "env = env_criteria.copy()"
   ]
  },
  {
   "cell_type": "code",
   "execution_count": 15,
   "id": "4b1f1152-4c04-40b0-ab7d-a5a04b30ff18",
   "metadata": {
    "ExecuteTime": {
     "end_time": "2023-11-28T18:19:58.749783Z",
     "start_time": "2023-11-28T18:19:58.742385Z"
    }
   },
   "outputs": [],
   "source": [
    "social = social.applymap(map_letter_vals)\n",
    "env = env.applymap(map_letter_vals)"
   ]
  },
  {
   "cell_type": "markdown",
   "source": [],
   "metadata": {
    "collapsed": false
   },
   "id": "8da09c84b99b93bd"
  },
  {
   "cell_type": "code",
   "execution_count": 16,
   "id": "1586737d-8ac0-44a2-8496-d6d0fc584eee",
   "metadata": {
    "ExecuteTime": {
     "end_time": "2023-11-28T18:19:59.532992Z",
     "start_time": "2023-11-28T18:19:59.521971Z"
    }
   },
   "outputs": [
    {
     "data": {
      "text/plain": "    recreation  Health  Property   Job\n0         9.00    9.00      6.34  3.67\n1         9.00    9.00      9.00  9.00\n2         9.00    9.00      9.00  9.00\n3         6.34    6.34      9.00  6.34\n4         9.00    6.34      6.34  6.34\n..         ...     ...       ...   ...\n93        9.00    9.00      6.34  9.00\n94        9.00    9.00      6.34  9.00\n95        6.34    9.00      3.67  6.34\n96        6.34    6.34      9.00  6.34\n97        9.00    9.00      9.00  9.00\n\n[98 rows x 4 columns]",
      "text/html": "<div>\n<style scoped>\n    .dataframe tbody tr th:only-of-type {\n        vertical-align: middle;\n    }\n\n    .dataframe tbody tr th {\n        vertical-align: top;\n    }\n\n    .dataframe thead th {\n        text-align: right;\n    }\n</style>\n<table border=\"1\" class=\"dataframe\">\n  <thead>\n    <tr style=\"text-align: right;\">\n      <th></th>\n      <th>recreation</th>\n      <th>Health</th>\n      <th>Property</th>\n      <th>Job</th>\n    </tr>\n  </thead>\n  <tbody>\n    <tr>\n      <th>0</th>\n      <td>9.00</td>\n      <td>9.00</td>\n      <td>6.34</td>\n      <td>3.67</td>\n    </tr>\n    <tr>\n      <th>1</th>\n      <td>9.00</td>\n      <td>9.00</td>\n      <td>9.00</td>\n      <td>9.00</td>\n    </tr>\n    <tr>\n      <th>2</th>\n      <td>9.00</td>\n      <td>9.00</td>\n      <td>9.00</td>\n      <td>9.00</td>\n    </tr>\n    <tr>\n      <th>3</th>\n      <td>6.34</td>\n      <td>6.34</td>\n      <td>9.00</td>\n      <td>6.34</td>\n    </tr>\n    <tr>\n      <th>4</th>\n      <td>9.00</td>\n      <td>6.34</td>\n      <td>6.34</td>\n      <td>6.34</td>\n    </tr>\n    <tr>\n      <th>...</th>\n      <td>...</td>\n      <td>...</td>\n      <td>...</td>\n      <td>...</td>\n    </tr>\n    <tr>\n      <th>93</th>\n      <td>9.00</td>\n      <td>9.00</td>\n      <td>6.34</td>\n      <td>9.00</td>\n    </tr>\n    <tr>\n      <th>94</th>\n      <td>9.00</td>\n      <td>9.00</td>\n      <td>6.34</td>\n      <td>9.00</td>\n    </tr>\n    <tr>\n      <th>95</th>\n      <td>6.34</td>\n      <td>9.00</td>\n      <td>3.67</td>\n      <td>6.34</td>\n    </tr>\n    <tr>\n      <th>96</th>\n      <td>6.34</td>\n      <td>6.34</td>\n      <td>9.00</td>\n      <td>6.34</td>\n    </tr>\n    <tr>\n      <th>97</th>\n      <td>9.00</td>\n      <td>9.00</td>\n      <td>9.00</td>\n      <td>9.00</td>\n    </tr>\n  </tbody>\n</table>\n<p>98 rows × 4 columns</p>\n</div>"
     },
     "metadata": {},
     "output_type": "display_data"
    }
   ],
   "source": [
    "display(social)"
   ]
  },
  {
   "cell_type": "code",
   "execution_count": 17,
   "id": "30bfb005-68db-4c5d-a253-0c56e537848c",
   "metadata": {
    "ExecuteTime": {
     "end_time": "2023-11-28T18:20:06.100912Z",
     "start_time": "2023-11-28T18:20:06.079950Z"
    }
   },
   "outputs": [
    {
     "data": {
      "text/plain": "    energy  storm   air\n0     1.00   6.34  3.67\n1     9.00   9.00  9.00\n2     9.00   9.00  9.00\n3     9.00   9.00  9.00\n4     6.34   6.34  3.67\n..     ...    ...   ...\n93    9.00   9.00  9.00\n94    9.00   9.00  9.00\n95    6.34   6.34  9.00\n96    9.00   9.00  6.34\n97    9.00   9.00  6.34\n\n[96 rows x 3 columns]",
      "text/html": "<div>\n<style scoped>\n    .dataframe tbody tr th:only-of-type {\n        vertical-align: middle;\n    }\n\n    .dataframe tbody tr th {\n        vertical-align: top;\n    }\n\n    .dataframe thead th {\n        text-align: right;\n    }\n</style>\n<table border=\"1\" class=\"dataframe\">\n  <thead>\n    <tr style=\"text-align: right;\">\n      <th></th>\n      <th>energy</th>\n      <th>storm</th>\n      <th>air</th>\n    </tr>\n  </thead>\n  <tbody>\n    <tr>\n      <th>0</th>\n      <td>1.00</td>\n      <td>6.34</td>\n      <td>3.67</td>\n    </tr>\n    <tr>\n      <th>1</th>\n      <td>9.00</td>\n      <td>9.00</td>\n      <td>9.00</td>\n    </tr>\n    <tr>\n      <th>2</th>\n      <td>9.00</td>\n      <td>9.00</td>\n      <td>9.00</td>\n    </tr>\n    <tr>\n      <th>3</th>\n      <td>9.00</td>\n      <td>9.00</td>\n      <td>9.00</td>\n    </tr>\n    <tr>\n      <th>4</th>\n      <td>6.34</td>\n      <td>6.34</td>\n      <td>3.67</td>\n    </tr>\n    <tr>\n      <th>...</th>\n      <td>...</td>\n      <td>...</td>\n      <td>...</td>\n    </tr>\n    <tr>\n      <th>93</th>\n      <td>9.00</td>\n      <td>9.00</td>\n      <td>9.00</td>\n    </tr>\n    <tr>\n      <th>94</th>\n      <td>9.00</td>\n      <td>9.00</td>\n      <td>9.00</td>\n    </tr>\n    <tr>\n      <th>95</th>\n      <td>6.34</td>\n      <td>6.34</td>\n      <td>9.00</td>\n    </tr>\n    <tr>\n      <th>96</th>\n      <td>9.00</td>\n      <td>9.00</td>\n      <td>6.34</td>\n    </tr>\n    <tr>\n      <th>97</th>\n      <td>9.00</td>\n      <td>9.00</td>\n      <td>6.34</td>\n    </tr>\n  </tbody>\n</table>\n<p>96 rows × 3 columns</p>\n</div>"
     },
     "metadata": {},
     "output_type": "display_data"
    }
   ],
   "source": [
    "display(env)"
   ]
  },
  {
   "cell_type": "code",
   "execution_count": 18,
   "outputs": [],
   "source": [
    "mat = np.zeros((4, 4))\n",
    "mat_env = np.zeros((2, 2))"
   ],
   "metadata": {
    "collapsed": false,
    "ExecuteTime": {
     "end_time": "2023-11-28T18:20:44.635694Z",
     "start_time": "2023-11-28T18:20:44.628101Z"
    }
   },
   "id": "a3cefaaa50642933"
  },
  {
   "cell_type": "code",
   "execution_count": 153,
   "outputs": [
    {
     "name": "stderr",
     "output_type": "stream",
     "text": [
      "/var/folders/zh/4wmfpks542d6lsg3xw_k0ysh0000gn/T/ipykernel_31311/548265151.py:12: RuntimeWarning: divide by zero encountered in divide\n",
      "  mat = np.divide.outer(row, row)\n",
      "/var/folders/zh/4wmfpks542d6lsg3xw_k0ysh0000gn/T/ipykernel_31311/548265151.py:12: RuntimeWarning: invalid value encountered in divide\n",
      "  mat = np.divide.outer(row, row)\n"
     ]
    }
   ],
   "source": [
    "import numpy as np\n",
    "\n",
    "# Convert DataFrame to NumPy array\n",
    "social_np = social.to_numpy()\n",
    "\n",
    "# Dictionary to hold the r values\n",
    "r_values = {f'r{i}{j}': [] for i in range(2) for j in range(2) if i != j}\n",
    "\n",
    "# Generate the r values\n",
    "for x in range(len(social_np)):\n",
    "    row = social_np[x, :]\n",
    "    mat = np.divide.outer(row, row)\n",
    "\n",
    "    for i in range(2):\n",
    "        for j in range(2):\n",
    "            if i != j:\n",
    "                key = f'r{i}{j}'\n",
    "                r_values[key].append(mat[i, j])\n"
   ],
   "metadata": {
    "collapsed": false,
    "ExecuteTime": {
     "end_time": "2023-11-28T21:56:11.805769Z",
     "start_time": "2023-11-28T21:56:11.802131Z"
    }
   },
   "id": "6d8a437b146a0e54"
  },
  {
   "cell_type": "code",
   "execution_count": 112,
   "outputs": [
    {
     "name": "stderr",
     "output_type": "stream",
     "text": [
      "/var/folders/zh/4wmfpks542d6lsg3xw_k0ysh0000gn/T/ipykernel_31311/2355901908.py:12: RuntimeWarning: divide by zero encountered in divide\n",
      "  mat_env = np.divide.outer(row, row)\n",
      "/var/folders/zh/4wmfpks542d6lsg3xw_k0ysh0000gn/T/ipykernel_31311/2355901908.py:12: RuntimeWarning: invalid value encountered in divide\n",
      "  mat_env = np.divide.outer(row, row)\n"
     ]
    }
   ],
   "source": [
    "import numpy as np\n",
    "\n",
    "# Convert DataFrame to NumPy array\n",
    "env_np = env.to_numpy()\n",
    "\n",
    "# List to hold the e_r10 values\n",
    "e_r10 = []\n",
    "\n",
    "# Generate the e_r10 values\n",
    "for x in range(len(env_np)):\n",
    "    row = env_np[x, :]\n",
    "    mat_env = np.divide.outer(row, row)\n",
    "\n",
    "    # Append the necessary value to e_r10\n",
    "    e_r10.append(mat_env[1, 0])"
   ],
   "metadata": {
    "collapsed": false,
    "ExecuteTime": {
     "end_time": "2023-11-28T21:34:54.404926Z",
     "start_time": "2023-11-28T21:34:54.389603Z"
    }
   },
   "id": "1fd996aa1260aec8"
  },
  {
   "cell_type": "code",
   "execution_count": 99,
   "outputs": [],
   "source": [
    "sample_data = [[4684956, 294200000, 28000000, 77123000],\n",
    "               [34016111, 420900000, 60000000, 154246000],\n",
    "               [51271313, 547500000, 93000000, 231369000],\n",
    "               [62912556, 674200000, 121000000, 308492000]]\n",
    "sample_data = np.array(sample_data)"
   ],
   "metadata": {
    "collapsed": false,
    "ExecuteTime": {
     "end_time": "2023-11-28T21:20:16.503857Z",
     "start_time": "2023-11-28T21:20:16.485905Z"
    }
   },
   "id": "8ef435435d5a820c"
  },
  {
   "cell_type": "code",
   "execution_count": 100,
   "outputs": [],
   "source": [
    "sample_data_env = [[6713580, 9820003],\n",
    "                   [16307399, 22391744],\n",
    "                   [22785416, 31204186],\n",
    "                   [28405151, 39210732]]\n",
    "sample_data_env = np.array(sample_data_env)"
   ],
   "metadata": {
    "collapsed": false,
    "ExecuteTime": {
     "end_time": "2023-11-28T21:20:16.847722Z",
     "start_time": "2023-11-28T21:20:16.843362Z"
    }
   },
   "id": "c14338c348aa67b2"
  },
  {
   "cell_type": "code",
   "execution_count": 125,
   "outputs": [],
   "source": [
    "sample_data = [[29.84, 1110],\n",
    "               [149.226, 1110]]\n",
    "sample_data = np.array(sample_data)"
   ],
   "metadata": {
    "collapsed": false,
    "ExecuteTime": {
     "end_time": "2023-11-28T21:41:08.992791Z",
     "start_time": "2023-11-28T21:41:08.970104Z"
    }
   },
   "id": "6ad06ee450f5865a"
  },
  {
   "cell_type": "code",
   "execution_count": 126,
   "outputs": [],
   "source": [
    "sample_data_env = [[25, 1627, 193],\n",
    "                   [40, 2637, 313]]\n",
    "sample_data_env = np.array(sample_data_env)"
   ],
   "metadata": {
    "collapsed": false,
    "ExecuteTime": {
     "end_time": "2023-11-28T21:41:09.323244Z",
     "start_time": "2023-11-28T21:41:09.318360Z"
    }
   },
   "id": "6322fa7118bae5bb"
  },
  {
   "cell_type": "code",
   "execution_count": 127,
   "outputs": [],
   "source": [
    "data_matrices = [sample_data, sample_data_env]"
   ],
   "metadata": {
    "collapsed": false,
    "ExecuteTime": {
     "end_time": "2023-11-28T21:41:10.131950Z",
     "start_time": "2023-11-28T21:41:10.121145Z"
    }
   },
   "id": "88d59a24b4a1c7f8"
  },
  {
   "cell_type": "code",
   "execution_count": 128,
   "outputs": [],
   "source": [
    "def create_pairwise(column, arr):\n",
    "    col_values = arr[:, column]\n",
    "    col_reshaped = col_values.reshape(-1, 1)\n",
    "    mat = col_reshaped / col_values\n",
    "    return np.round(mat, 4)\n",
    "\n",
    "def prio_vec(A):\n",
    "    e = np.linalg.eig(A)[1][:, 0]\n",
    "    p = e / e.sum()\n",
    "\n",
    "    return p.real"
   ],
   "metadata": {
    "collapsed": false,
    "ExecuteTime": {
     "end_time": "2023-11-28T21:41:11.084282Z",
     "start_time": "2023-11-28T21:41:11.079640Z"
    }
   },
   "id": "80ed64c2aaa7de29"
  },
  {
   "cell_type": "code",
   "execution_count": 130,
   "outputs": [],
   "source": [
    "local_vars = []\n",
    "for matrix in data_matrices:\n",
    "    pairwise_mat = np.zeros(matrix.shape)\n",
    "    for col_idx in range(matrix.shape[1]):\n",
    "        col = matrix[:, col_idx]\n",
    "        min_val = col.min()\n",
    "        range_val = (matrix[:, col_idx].max() - min_val) / matrix.shape[0]\n",
    "\n",
    "        # Check if range_val is zero to avoid division by zero\n",
    "        if range_val != 0:\n",
    "            pairwise_mat[:, col_idx] = 1 + (matrix[:, col_idx] - min_val) / range_val\n",
    "        else:\n",
    "            # Handle the case when range_val is zero\n",
    "            # For example, you can assign a default value or skip\n",
    "            pairwise_mat[:, col_idx] = 1  # This is a placeholder, adjust as needed\n",
    "\n",
    "    pairwise_matrices = [create_pairwise(i, pairwise_mat) for i in range(matrix.shape[1])]\n",
    "    local_vars.append(np.array([prio_vec(mat) for mat in pairwise_matrices]).T)\n"
   ],
   "metadata": {
    "collapsed": false,
    "ExecuteTime": {
     "end_time": "2023-11-28T21:43:30.292576Z",
     "start_time": "2023-11-28T21:43:30.267966Z"
    }
   },
   "id": "d5141fce63c74253"
  },
  {
   "cell_type": "markdown",
   "source": [],
   "metadata": {
    "collapsed": false
   },
   "id": "11dc3bb24f8829e"
  },
  {
   "cell_type": "markdown",
   "source": [],
   "metadata": {
    "collapsed": false
   },
   "id": "4c707b49e95c0154"
  },
  {
   "cell_type": "code",
   "execution_count": 131,
   "outputs": [],
   "source": [
    "local_var_combined = np.concatenate(local_vars, axis=1)"
   ],
   "metadata": {
    "collapsed": false,
    "ExecuteTime": {
     "end_time": "2023-11-28T21:43:34.341436Z",
     "start_time": "2023-11-28T21:43:34.334852Z"
    }
   },
   "id": "4cd94a0259163b2d"
  },
  {
   "cell_type": "code",
   "execution_count": 158,
   "outputs": [],
   "source": [
    "wts_25 = []\n",
    "wts_50 = []\n",
    "wts_75 = []\n",
    "wts_100 = []\n",
    "\n",
    "level_one_cri = pd.read_excel('../../data/lvl1_cri_pairwise.xlsx')\n",
    "level_one_cri = level_one_cri.iloc[:2, 1:3]\n",
    "\n",
    "import numpy as np\n",
    "import random\n",
    "\n",
    "def simulator(n, r_values, level_one_cri, local_var_combined, wts_25, wts_50, wts_75, wts_100):\n",
    "    count = 0\n",
    "    s_mat = np.ones((2, 2))\n",
    "    e_mat = np.ones((3, 3))\n",
    "\n",
    "    for _ in range(n):\n",
    "        try:\n",
    "            # Fill s_mat with random choices from r_values\n",
    "            for k, v in r_values.items():\n",
    "                i, j = map(int, k[1:])\n",
    "                s_mat[i, j] = random.choice(v)\n",
    "                s_mat[j, i] = 1 / s_mat[i, j]  # Inverse for the symmetric element\n",
    "    \n",
    "            # Similar logic for e_mat if you have e_r values\n",
    "            try:\n",
    "                e_mat[1][0] = random.choice(e_r10)\n",
    "                e_mat[0][1] = 1 / e_mat[1][0]\n",
    "            except:\n",
    "                pass\n",
    "    \n",
    "            # Eigenvalue calculations for s_mat\n",
    "            w1, v1 = np.linalg.eig(s_mat)\n",
    "            lambda_max1 = max(w1)\n",
    "            CI1 = (lambda_max1 - len(s_mat)) / (len(s_mat) - 1)\n",
    "            CR1 = CI1 / 0.90\n",
    "    \n",
    "            w2, v2 = np.linalg.eig(e_mat)\n",
    "            lambda_max2 = max(w2)\n",
    "            CI2 = (lambda_max2 - len(e_mat)) / (len(e_mat) - 1)\n",
    "            CR2 = CI2 / 0.90\n",
    "    \n",
    "            if CR1 > 0.1 or abs(prio_vec(s_mat)[0]) > 1 or CR2 > 0.1 or abs(prio_vec(e_mat)[0]) > 1:\n",
    "                continue\n",
    "            else:\n",
    "                mat1 = (prio_vec(level_one_cri)[1] * prio_vec(s_mat))\n",
    "                mat2 = (prio_vec(level_one_cri)[0] * prio_vec(e_mat))\n",
    "    \n",
    "                multply_mat = np.concatenate((mat1, mat2))\n",
    "    \n",
    "                count += 1\n",
    "                wts = (np.dot(local_var_combined, multply_mat))\n",
    "                wts_25.append(wts[0])\n",
    "                wts_50.append(wts[1])\n",
    "        except:\n",
    "            pass\n",
    "\n",
    "    return countwts_25 = []\n",
    "wts_50 = []\n",
    "wts_75 = []\n",
    "wts_100 = []\n",
    "\n",
    "level_one_cri = pd.read_excel('../../data/lvl1_cri_pairwise.xlsx')\n",
    "level_one_cri = level_one_cri.iloc[:2, 1:3]\n",
    "\n",
    "import numpy as np\n",
    "import random\n",
    "\n",
    "def simulator(n, r_values, level_one_cri, local_var_combined, wts_25, wts_50, wts_75, wts_100):\n",
    "    count = 0\n",
    "    s_mat = np.ones((2, 2))\n",
    "    e_mat = np.ones((3, 3))\n",
    "\n",
    "    for _ in range(n):\n",
    "        try:\n",
    "            # Fill s_mat with random choices from r_values\n",
    "            for k, v in r_values.items():\n",
    "                i, j = map(int, k[1:])\n",
    "                s_mat[i, j] = random.choice(v)\n",
    "                s_mat[j, i] = 1 / s_mat[i, j]  # Inverse for the symmetric element\n",
    "    \n",
    "            # Similar logic for e_mat if you have e_r values\n",
    "            try:\n",
    "                e_mat[1][0] = random.choice(e_r10)\n",
    "                e_mat[0][1] = 1 / e_mat[1][0]\n",
    "            except:\n",
    "                pass\n",
    "    \n",
    "            # Eigenvalue calculations for s_mat\n",
    "            w1, v1 = np.linalg.eig(s_mat)\n",
    "            lambda_max1 = max(w1)\n",
    "            CI1 = (lambda_max1 - len(s_mat)) / (len(s_mat) - 1)\n",
    "            CR1 = CI1 / 0.90\n",
    "    \n",
    "            w2, v2 = np.linalg.eig(e_mat)\n",
    "            lambda_max2 = max(w2)\n",
    "            CI2 = (lambda_max2 - len(e_mat)) / (len(e_mat) - 1)\n",
    "            CR2 = CI2 / 0.90\n",
    "    \n",
    "            if CR1 > 0.1 or abs(prio_vec(s_mat)[0]) > 1 or CR2 > 0.1 or abs(prio_vec(e_mat)[0]) > 1:\n",
    "                continue\n",
    "            else:\n",
    "                mat1 = (prio_vec(level_one_cri)[1] * prio_vec(s_mat))\n",
    "                mat2 = (prio_vec(level_one_cri)[0] * prio_vec(e_mat))\n",
    "    \n",
    "                multply_mat = np.concatenate((mat1, mat2))\n",
    "    \n",
    "                count += 1\n",
    "                wts = (np.dot(local_var_combined, multply_mat))\n",
    "                wts_25.append(wts[0])\n",
    "                wts_50.append(wts[1])\n",
    "        except:\n",
    "            pass\n",
    "\n",
    "    return count"
   ],
   "metadata": {
    "collapsed": false,
    "ExecuteTime": {
     "end_time": "2023-11-28T21:57:08.119513Z",
     "start_time": "2023-11-28T21:57:08.098867Z"
    }
   },
   "id": "741e45b723e3912a"
  },
  {
   "cell_type": "code",
   "execution_count": 159,
   "outputs": [
    {
     "name": "stderr",
     "output_type": "stream",
     "text": [
      "/var/folders/zh/4wmfpks542d6lsg3xw_k0ysh0000gn/T/ipykernel_31311/3122386164.py:23: RuntimeWarning: divide by zero encountered in scalar divide\n",
      "  s_mat[j, i] = 1 / s_mat[i, j]  # Inverse for the symmetric element\n",
      "/var/folders/zh/4wmfpks542d6lsg3xw_k0ysh0000gn/T/ipykernel_31311/3122386164.py:28: RuntimeWarning: divide by zero encountered in scalar divide\n",
      "  e_mat[0][1] = 1 / e_mat[1][0]\n"
     ]
    },
    {
     "data": {
      "text/plain": "4549"
     },
     "execution_count": 159,
     "metadata": {},
     "output_type": "execute_result"
    }
   ],
   "source": [
    "simulator(5000, r_values, level_one_cri, local_var_combined, wts_25, wts_50, wts_75, wts_100)"
   ],
   "metadata": {
    "collapsed": false,
    "ExecuteTime": {
     "end_time": "2023-11-28T21:57:09.949654Z",
     "start_time": "2023-11-28T21:57:09.265342Z"
    }
   },
   "id": "82aaf080c21a659a"
  },
  {
   "cell_type": "code",
   "execution_count": 160,
   "outputs": [
    {
     "name": "stdout",
     "output_type": "stream",
     "text": [
      "[0, 1]\n",
      "[1, 0]\n"
     ]
    }
   ],
   "source": [
    "for k, v in r_values.items():\n",
    "    print(list(map(int, k[1:])))"
   ],
   "metadata": {
    "collapsed": false,
    "ExecuteTime": {
     "end_time": "2023-11-28T21:57:11.057354Z",
     "start_time": "2023-11-28T21:57:11.051698Z"
    }
   },
   "id": "dfa83743c0697c9b"
  },
  {
   "cell_type": "code",
   "execution_count": 161,
   "outputs": [
    {
     "name": "stdout",
     "output_type": "stream",
     "text": [
      "4549\n"
     ]
    }
   ],
   "source": [
    "print(len(wts_25))"
   ],
   "metadata": {
    "collapsed": false,
    "ExecuteTime": {
     "end_time": "2023-11-28T21:57:12.962056Z",
     "start_time": "2023-11-28T21:57:12.956429Z"
    }
   },
   "id": "7eda233ac73be7c7"
  },
  {
   "cell_type": "code",
   "execution_count": 165,
   "outputs": [],
   "source": [
    "column_names = [\"wts_25\", \"wts_50\", \"wts_75\", \"wts_100\"]\n",
    "\n",
    "wts = pd.DataFrame(columns=column_names)\n",
    "\n",
    "wts['wts_25'] = wts_25\n",
    "wts['wts_50'] = wts_50\n",
    "wts['wts_75'] = wts_25\n",
    "wts['wts_100'] = wts_50\n",
    "\n",
    "wts = wts.round(5)"
   ],
   "metadata": {
    "collapsed": false,
    "ExecuteTime": {
     "end_time": "2023-11-28T21:58:07.253996Z",
     "start_time": "2023-11-28T21:58:07.248007Z"
    }
   },
   "id": "daa96d8b5c16a47"
  },
  {
   "cell_type": "code",
   "execution_count": 170,
   "outputs": [
    {
     "name": "stdout",
     "output_type": "stream",
     "text": [
      "[0.30555 0.31518 0.29591 0.29073 0.33731 0.28218 0.34597 0.32892 0.27378\n",
      " 0.34999 0.32037]\n"
     ]
    }
   ],
   "source": [
    "print(pd.unique(wts['wts_25']))"
   ],
   "metadata": {
    "collapsed": false,
    "ExecuteTime": {
     "end_time": "2023-11-28T22:00:48.206959Z",
     "start_time": "2023-11-28T22:00:48.202355Z"
    }
   },
   "id": "49e022df4373607a"
  },
  {
   "cell_type": "code",
   "execution_count": 169,
   "outputs": [
    {
     "name": "stderr",
     "output_type": "stream",
     "text": [
      "/var/folders/zh/4wmfpks542d6lsg3xw_k0ysh0000gn/T/ipykernel_31311/3763382187.py:82: UserWarning: The figure layout has changed to tight\n",
      "  plt.tight_layout()\n",
      "/var/folders/zh/4wmfpks542d6lsg3xw_k0ysh0000gn/T/ipykernel_31311/3763382187.py:108: UserWarning: The figure layout has changed to tight\n",
      "  plt.tight_layout()\n",
      "/var/folders/zh/4wmfpks542d6lsg3xw_k0ysh0000gn/T/ipykernel_31311/3763382187.py:133: UserWarning: The figure layout has changed to tight\n",
      "  plt.tight_layout()\n"
     ]
    },
    {
     "data": {
      "text/plain": "DeltaGenerator()"
     },
     "execution_count": 169,
     "metadata": {},
     "output_type": "execute_result"
    }
   ],
   "source": [
    "import streamlit as st\n",
    "st.header('Range of weights for all four alternatives')\n",
    "figure(figsize=(6.9, 3))\n",
    "\n",
    "rcParams['font.family'] = 'Arial'\n",
    "\n",
    "plt.hist(x=wts['wts_25'], bins=len(pd.unique(wts['wts_25'])), color='black',\n",
    "         alpha=1)\n",
    "plt.hist(x=wts['wts_50'], bins=len(pd.unique(wts['wts_50'])), color='brown',\n",
    "         alpha=1)\n",
    "plt.hist(x=wts['wts_75'], bins=len(pd.unique(wts['wts_75'])), color='blue',\n",
    "         alpha=1)\n",
    "plt.hist(x=wts['wts_100'], bins=len(pd.unique(wts['wts_100'])), color='green',\n",
    "         alpha=1)\n",
    "plt.gcf().set_size_inches(7.5, 3)\n",
    "\n",
    "# plt.xticks(np.linspace(0.0, 0.45, 10), rotation = 0)\n",
    "\n",
    "\n",
    "plt.legend(['25% GI', '50% GI', '75% GI', '100% GI'], fontsize=7)\n",
    "plt.xticks(fontsize=6)\n",
    "plt.yticks(fontsize=6)\n",
    "plt.ylabel('Density', fontsize=7)\n",
    "plt.xlabel('Weight', fontsize=7)\n",
    "\n",
    "plt.gca().xaxis.set_major_formatter(StrMethodFormatter('{x:,.3f}'))\n",
    "\n",
    "txt = \"(A). Range of weights for all four alternatives\"\n",
    "plt.figtext(0.5, -0.028, txt, wrap=True, horizontalalignment='center', fontsize=7)\n",
    "\n",
    "plt.savefig('wts.png', dpi=300, bbox_inches=\"tight\")\n",
    "\n",
    "st.pyplot(plt)\n",
    "\n",
    "plt.hist(x=wts['wts_25'], bins=len(pd.unique(wts['wts_25'])), color='black',\n",
    "         alpha=1)\n",
    "\n",
    "# plt.legend(['25% GI'])\n",
    "plt.ylabel('Density', fontsize=7)\n",
    "plt.xlabel('Weight', fontsize=7)\n",
    "\n",
    "from matplotlib.ticker import StrMethodFormatter\n",
    "st.header('Range of weights for 25% GI')\n",
    "plt.gca().xaxis.set_major_formatter(StrMethodFormatter('{x:,.3f}'))\n",
    "\n",
    "fig = plt.gcf()\n",
    "fig.set_size_inches(3.25, 2.3)\n",
    "\n",
    "plt.xticks(fontsize=6)\n",
    "plt.yticks(fontsize=6)\n",
    "\n",
    "txt = \"(B) 25% GI, 75% TI\"\n",
    "plt.figtext(0.54, -0.02, txt, wrap=True, horizontalalignment='center', fontsize=7)\n",
    "\n",
    "plt.tight_layout()\n",
    "\n",
    "plt.savefig('wts_25.png', dpi=300, bbox_inches=\"tight\")\n",
    "\n",
    "st.pyplot(plt)\n",
    "\n",
    "st.header('Range of weights for 50% GI')\n",
    "plt.hist(x=wts['wts_50'], bins=len(pd.unique(wts['wts_50'])), color='brown',\n",
    "         alpha=1)\n",
    "\n",
    "# plt.legend(['50% GI'])\n",
    "plt.ylabel('Density', fontsize=7)\n",
    "plt.xlabel('Weight', fontsize=7)\n",
    "\n",
    "from matplotlib.ticker import StrMethodFormatter\n",
    "\n",
    "plt.gca().xaxis.set_major_formatter(StrMethodFormatter('{x:,.3f}'))\n",
    "\n",
    "fig = plt.gcf()\n",
    "fig.set_size_inches(3.25, 2.3)\n",
    "\n",
    "plt.xticks(fontsize=6)\n",
    "plt.yticks(fontsize=6)\n",
    "\n",
    "txt = \"(C) 50% GI, 50% TI\"\n",
    "plt.figtext(0.54, -0.02, txt, wrap=True, horizontalalignment='center', fontsize=7)\n",
    "\n",
    "plt.tight_layout()\n",
    "plt.savefig('wts_50.png', dpi=300, bbox_inches=\"tight\")\n",
    "\n",
    "st.pyplot(plt)\n",
    "\n",
    "st.header('Range of weights for 75% GI')\n",
    "plt.hist(x=wts['wts_75'], bins=len(pd.unique(wts['wts_75'])), color='blue',\n",
    "         alpha=1)\n",
    "\n",
    "# plt.legend(['75% GI'])\n",
    "plt.ylabel('Density', fontsize=7)\n",
    "plt.xlabel('Weight', fontsize=7)\n",
    "\n",
    "from matplotlib.ticker import StrMethodFormatter\n",
    "\n",
    "plt.gca().xaxis.set_major_formatter(StrMethodFormatter('{x:,.3f}'))\n",
    "\n",
    "fig = plt.gcf()\n",
    "fig.set_size_inches(3.25, 2.3)\n",
    "\n",
    "plt.xticks(fontsize=6)\n",
    "plt.yticks(fontsize=6)\n",
    "\n",
    "txt = \"(D) 75% GI, 25% TI\"\n",
    "plt.figtext(0.54, -0.02, txt, wrap=True, horizontalalignment='center', fontsize=7)\n",
    "\n",
    "plt.tight_layout()\n",
    "plt.savefig('wts_75.png', dpi=300, bbox_inches=\"tight\")\n",
    "\n",
    "st.pyplot(plt)\n",
    "\n",
    "st.header('Range of weights for 100% GI')\n",
    "plt.hist(x=wts['wts_100'], bins=len(pd.unique(wts['wts_100'])), color='green',\n",
    "         alpha=1)\n",
    "\n",
    "# plt.legend(['100% GI'])\n",
    "plt.ylabel('Density', fontsize=7)\n",
    "plt.xlabel('Weight', fontsize=7)\n",
    "\n",
    "from matplotlib.ticker import StrMethodFormatter\n",
    "\n",
    "plt.gca().xaxis.set_major_formatter(StrMethodFormatter('{x:,.3f}'))\n",
    "\n",
    "fig = plt.gcf()\n",
    "fig.set_size_inches(3.25, 2.3)\n",
    "\n",
    "plt.xticks(fontsize=6)\n",
    "plt.yticks(fontsize=6)\n",
    "\n",
    "txt = \"(E) 100% GI\"\n",
    "plt.figtext(0.54, -0.02, txt, wrap=True, horizontalalignment='center', fontsize=7)\n",
    "plt.tight_layout()\n",
    "plt.savefig('wts_100.png', dpi=300, bbox_inches=\"tight\")\n",
    "\n",
    "st.pyplot(plt)\n",
    "\n",
    "from matplotlib import font_manager\n",
    "\n",
    "font_manager_inst = font_manager.fontManager\n",
    "\n",
    "import matplotlib.pyplot as plt\n",
    "import numpy\n",
    "\n",
    "from matplotlib import rcParams\n",
    "\n",
    "rcParams['font.family'] = 'Arial'\n",
    "\n",
    "data = r10\n",
    "#\n",
    "sorted_random_data = numpy.sort(data)\n",
    "p = 1. * numpy.arange(len(sorted_random_data)) / float(len(sorted_random_data) - 1)\n",
    "#\n",
    "\n",
    "fig = plt.figure()\n",
    "# fig.suptitle('CDF of R[1,0]')\n",
    "ax2 = fig.add_subplot(111)\n",
    "\n",
    "ax2.plot(sorted_random_data, p)\n",
    "ax2.set_xlabel(\"(A) \" + '$c_2$/$c_1$', fontsize=22)\n",
    "ax2.set_ylabel('Cumulative probabilty', fontsize=22)\n",
    "plt.yticks(fontsize=20)\n",
    "plt.xticks(fontsize=20)\n",
    "plt.savefig(\"1.png\", dpi=300, bbox_inches=\"tight\")\n",
    "st.header(\"CDF of $c_2$/$c_1$\")\n",
    "st.pyplot(plt)\n",
    "\n",
    "\n",
    "rcParams['font.family'] = 'Arial'\n",
    "\n",
    "data = r20\n",
    "#\n",
    "sorted_random_data = numpy.sort(data)\n",
    "p = 1. * numpy.arange(len(sorted_random_data)) / float(len(sorted_random_data) - 1)\n",
    "#\n",
    "\n",
    "fig = plt.figure()\n",
    "# fig.suptitle('CDF of data points')\n",
    "ax2 = fig.add_subplot(111)\n",
    "ax2.plot(sorted_random_data, p)\n",
    "ax2.set_xlabel(\"(B) \" + '$c_3$/$c_1$', fontsize=22)\n",
    "ax2.set_ylabel('Cumulative probabilty', fontsize=22)\n",
    "plt.yticks(fontsize=20)\n",
    "plt.xticks(fontsize=20)\n",
    "plt.savefig(\"2.png\", dpi=300, bbox_inches=\"tight\")\n",
    "st.header(\"CDF of $c_3$/$c_1$\")\n",
    "st.pyplot(plt)\n",
    "\n",
    "rcParams['font.family'] = 'Arial'\n",
    "\n",
    "data = r31\n",
    "#\n",
    "sorted_random_data = numpy.sort(data)\n",
    "p = 1. * numpy.arange(len(sorted_random_data)) / float(len(sorted_random_data) - 1)\n",
    "#\n",
    "\n",
    "fig = plt.figure()\n",
    "# fig.suptitle('CDF of data points')\n",
    "ax2 = fig.add_subplot(111)\n",
    "ax2.plot(sorted_random_data, p)\n",
    "ax2.set_xlabel(\"(E) \" + '$c_4$/$c_2$', fontsize=22)\n",
    "ax2.set_ylabel('Cumulative probabilty', fontsize=22)\n",
    "plt.yticks(fontsize=20)\n",
    "plt.xticks(fontsize=20)\n",
    "plt.savefig(\"5.png\", dpi=300, bbox_inches=\"tight\")\n",
    "st.header(\"CDF of $c_4$/$c_2$\")\n",
    "st.pyplot(plt)\n"
   ],
   "metadata": {
    "collapsed": false,
    "ExecuteTime": {
     "end_time": "2023-11-28T22:00:35.430390Z",
     "start_time": "2023-11-28T22:00:33.050658Z"
    }
   },
   "id": "290f53abbbbdfad3"
  },
  {
   "cell_type": "code",
   "execution_count": null,
   "outputs": [],
   "source": [],
   "metadata": {
    "collapsed": false
   },
   "id": "323fcec810d2820a"
  }
 ],
 "metadata": {
  "kernelspec": {
   "display_name": "Python 3 (ipykernel)",
   "language": "python",
   "name": "python3"
  },
  "language_info": {
   "codemirror_mode": {
    "name": "ipython",
    "version": 3
   },
   "file_extension": ".py",
   "mimetype": "text/x-python",
   "name": "python",
   "nbconvert_exporter": "python",
   "pygments_lexer": "ipython3",
   "version": "3.9.6"
  }
 },
 "nbformat": 4,
 "nbformat_minor": 5
}
